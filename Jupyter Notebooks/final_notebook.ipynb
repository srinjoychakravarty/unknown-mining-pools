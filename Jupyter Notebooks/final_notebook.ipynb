{
 "cells": [
  {
   "cell_type": "markdown",
   "metadata": {},
   "source": [
    "from funcsigs import signature\n",
    "from google.cloud import bigquery\n",
    "from sklearn.ensemble import RandomForestClassifier\n",
    "from sklearn.metrics import accuracy_score, classification_report, confusion_matrix, f1_score, fbeta_score, precision_recall_curve, precision_score, recall_score\n",
    "from sklearn.model_selection import train_test_split"
   ]
  },
  {
   "cell_type": "code",
   "execution_count": 2,
   "metadata": {},
   "outputs": [],
   "source": [
    "import matplotlib.pyplot, matplotlib.ticker, numpy, os, pandas, pyarrow.feather, pyarrow.parquet, itertools, time, warnings"
   ]
  },
  {
   "cell_type": "code",
   "execution_count": 3,
   "metadata": {},
   "outputs": [],
   "source": [
    "os.environ['GOOGLE_APPLICATION_CREDENTIALS'] = \"bigquery.json\"\n",
    "client = bigquery.Client()"
   ]
  },
  {
   "cell_type": "code",
   "execution_count": 4,
   "metadata": {},
   "outputs": [
    {
     "data": {
      "text/plain": [
       "'\\nminer_vectors_limit = 4800000\\nnon_miner_vectors_limit = 4800000\\nTime to query live Bitcoin Blockchain: 1589.8354420661926 seconds.\\nNumber of DataFrame Rows: 4810032\\nNumber of DataFrame Columns: 30\\nmemory usage: 1.0+ GB\\n\\nminer_vectors_limit = 5000000\\nnon_miner_vectors_limit = 5000000\\nTime to query live Bitcoin Blockchain: 1868.3523926734924 seconds.\\nNumber of DataFrame Rows: 5010032\\nNumber of DataFrame Columns: 30\\nmemory usage: 1.1+ GB\\n'"
      ]
     },
     "execution_count": 4,
     "metadata": {},
     "output_type": "execute_result"
    }
   ],
   "source": [
    "miner_vectors_limit = 6000000\n",
    "non_miner_vectors_limit = 6000000\n",
    "'''\n",
    "miner_vectors_limit = 4800000\n",
    "non_miner_vectors_limit = 4800000\n",
    "Time to query live Bitcoin Blockchain: 1589.8354420661926 seconds.\n",
    "Number of DataFrame Rows: 4810032\n",
    "Number of DataFrame Columns: 30\n",
    "memory usage: 1.0+ GB\n",
    "\n",
    "miner_vectors_limit = 5000000\n",
    "non_miner_vectors_limit = 5000000\n",
    "Time to query live Bitcoin Blockchain: 1868.3523926734924 seconds.\n",
    "Number of DataFrame Rows: 5010032\n",
    "Number of DataFrame Columns: 30\n",
    "memory usage: 1.1+ GB\n",
    "'''"
   ]
  },
  {
   "cell_type": "code",
   "execution_count": 5,
   "metadata": {},
   "outputs": [
    {
     "name": "stdout",
     "output_type": "stream",
     "text": [
      "SQL query extracts, transforms, loads bitcoin mining pool address signatures and statistics of their behaviour over time...\n"
     ]
    }
   ],
   "source": [
    "print(\"SQL query extracts, transforms, loads bitcoin mining pool address signatures and statistics of their behaviour over time...\")\n",
    "sql_btc_txns = '''\n",
    "WITH \n",
    "output_ages AS (\n",
    "  SELECT\n",
    "    ARRAY_TO_STRING(outputs.addresses,',') AS output_ages_address,\n",
    "    MIN(block_timestamp_month) AS output_month_min,\n",
    "    MAX(block_timestamp_month) AS output_month_max\n",
    "  FROM `bigquery-public-data.crypto_bitcoin.transactions` AS transactions JOIN UNNEST(outputs) AS outputs\n",
    "  GROUP BY output_ages_address\n",
    ")\n",
    ",input_ages AS (\n",
    "  SELECT\n",
    "    ARRAY_TO_STRING(inputs.addresses,',') AS input_ages_address,\n",
    "    MIN(block_timestamp_month) AS input_month_min,\n",
    "    MAX(block_timestamp_month) AS input_month_max\n",
    "  FROM `bigquery-public-data.crypto_bitcoin.transactions` AS transactions JOIN UNNEST(inputs) AS inputs\n",
    "  GROUP BY input_ages_address\n",
    ")\n",
    ",output_monthly_stats AS (\n",
    "  SELECT\n",
    "    ARRAY_TO_STRING(outputs.addresses,',') AS output_monthly_stats_address, \n",
    "    COUNT(DISTINCT block_timestamp_month) AS output_active_months,\n",
    "    COUNT(outputs) AS total_tx_output_count,\n",
    "    SUM(value) AS total_tx_output_value,\n",
    "    AVG(value) AS mean_tx_output_value,\n",
    "    STDDEV(value) AS stddev_tx_output_value,\n",
    "    COUNT(DISTINCT(`hash`)) AS total_output_tx,\n",
    "    SUM(value)/COUNT(block_timestamp_month) AS mean_monthly_output_value,\n",
    "    COUNT(outputs.addresses)/COUNT(block_timestamp_month) AS mean_monthly_output_count\n",
    "  FROM `bigquery-public-data.crypto_bitcoin.transactions` AS transactions JOIN UNNEST(outputs) AS outputs\n",
    "  GROUP BY output_monthly_stats_address\n",
    ")\n",
    ",input_monthly_stats AS (\n",
    "  SELECT\n",
    "    ARRAY_TO_STRING(inputs.addresses,',') AS input_monthly_stats_address, \n",
    "    COUNT(DISTINCT block_timestamp_month) AS input_active_months,\n",
    "    COUNT(inputs) AS total_tx_input_count,\n",
    "    SUM(value) AS total_tx_input_value,\n",
    "    AVG(value) AS mean_tx_input_value,\n",
    "    STDDEV(value) AS stddev_tx_input_value,\n",
    "    COUNT(DISTINCT(`hash`)) AS total_input_tx,\n",
    "    SUM(value)/COUNT(block_timestamp_month) AS mean_monthly_input_value,\n",
    "    COUNT(inputs.addresses)/COUNT(block_timestamp_month) AS mean_monthly_input_count\n",
    "  FROM `bigquery-public-data.crypto_bitcoin.transactions` AS transactions JOIN UNNEST(inputs) AS inputs\n",
    "  GROUP BY input_monthly_stats_address\n",
    ")\n",
    ",output_idle_times AS (\n",
    "  SELECT\n",
    "    address AS idle_time_address,\n",
    "    AVG(idle_time) AS mean_output_idle_time,\n",
    "    STDDEV(idle_time) AS stddev_output_idle_time\n",
    "  FROM\n",
    "  (\n",
    "    SELECT \n",
    "      event.address,\n",
    "      IF(prev_block_time IS NULL, NULL, UNIX_SECONDS(block_time) - UNIX_SECONDS(prev_block_time)) AS idle_time\n",
    "    FROM (\n",
    "      SELECT\n",
    "        ARRAY_TO_STRING(outputs.addresses,',') AS address, \n",
    "        block_timestamp AS block_time,\n",
    "        LAG(block_timestamp) OVER (PARTITION BY ARRAY_TO_STRING(outputs.addresses,',') ORDER BY block_timestamp) AS prev_block_time\n",
    "      FROM `bigquery-public-data.crypto_bitcoin.transactions` AS transactions JOIN UNNEST(outputs) AS outputs\n",
    "    ) AS event\n",
    "    WHERE block_time != prev_block_time\n",
    "  )\n",
    "  GROUP BY address\n",
    ")\n",
    ",input_idle_times AS (\n",
    "  SELECT\n",
    "    address AS idle_time_address,\n",
    "    AVG(idle_time) AS mean_input_idle_time,\n",
    "    STDDEV(idle_time) AS stddev_input_idle_time\n",
    "  FROM\n",
    "  (\n",
    "    SELECT \n",
    "      event.address,\n",
    "      IF(prev_block_time IS NULL, NULL, UNIX_SECONDS(block_time) - UNIX_SECONDS(prev_block_time)) AS idle_time\n",
    "    FROM (\n",
    "      SELECT\n",
    "        ARRAY_TO_STRING(inputs.addresses,',') AS address, \n",
    "        block_timestamp AS block_time,\n",
    "        LAG(block_timestamp) OVER (PARTITION BY ARRAY_TO_STRING(inputs.addresses,',') ORDER BY block_timestamp) AS prev_block_time\n",
    "      FROM `bigquery-public-data.crypto_bitcoin.transactions` AS transactions JOIN UNNEST(inputs) AS inputs\n",
    "    ) AS event\n",
    "    WHERE block_time != prev_block_time\n",
    "  )\n",
    "  GROUP BY address\n",
    ")\n",
    "--,miners AS (\n",
    "--)\n",
    "\n",
    "(SELECT\n",
    "  TRUE AS is_miner,\n",
    "  output_ages_address AS address,\n",
    "  UNIX_SECONDS(CAST(output_ages.output_month_min AS TIMESTAMP)) AS output_month_min,\n",
    "  UNIX_SECONDS(CAST(output_ages.output_month_max AS TIMESTAMP)) AS output_month_max,\n",
    "  UNIX_SECONDS(CAST(input_ages.input_month_min AS TIMESTAMP)) AS input_month_min,\n",
    "  UNIX_SECONDS(CAST(input_ages.input_month_max AS TIMESTAMP)) AS input_month_max,\n",
    "  UNIX_SECONDS(CAST(output_ages.output_month_max AS TIMESTAMP)) - UNIX_SECONDS(CAST(output_ages.output_month_min AS TIMESTAMP)) AS output_active_time,\n",
    "  UNIX_SECONDS(CAST(input_ages.input_month_max AS TIMESTAMP)) - UNIX_SECONDS(CAST(input_ages.input_month_min AS TIMESTAMP)) AS input_active_time,\n",
    "  UNIX_SECONDS(CAST(output_ages.output_month_max AS TIMESTAMP)) - UNIX_SECONDS(CAST(input_ages.input_month_max AS TIMESTAMP)) AS io_max_lag,\n",
    "  UNIX_SECONDS(CAST(output_ages.output_month_min AS TIMESTAMP)) - UNIX_SECONDS(CAST(input_ages.input_month_min AS TIMESTAMP)) AS io_min_lag,\n",
    "  output_monthly_stats.output_active_months,\n",
    "  output_monthly_stats.total_tx_output_count,\n",
    "  output_monthly_stats.total_tx_output_value,\n",
    "  output_monthly_stats.mean_tx_output_value,\n",
    "  output_monthly_stats.stddev_tx_output_value,\n",
    "  output_monthly_stats.total_output_tx,\n",
    "  output_monthly_stats.mean_monthly_output_value,\n",
    "  output_monthly_stats.mean_monthly_output_count,\n",
    "  input_monthly_stats.input_active_months,\n",
    "  input_monthly_stats.total_tx_input_count,\n",
    "  input_monthly_stats.total_tx_input_value,\n",
    "  input_monthly_stats.mean_tx_input_value,\n",
    "  input_monthly_stats.stddev_tx_input_value,\n",
    "  input_monthly_stats.total_input_tx,\n",
    "  input_monthly_stats.mean_monthly_input_value,\n",
    "  input_monthly_stats.mean_monthly_input_count,\n",
    "  output_idle_times.mean_output_idle_time,\n",
    "  output_idle_times.stddev_output_idle_time,\n",
    "  input_idle_times.mean_input_idle_time,\n",
    "  input_idle_times.stddev_input_idle_time\n",
    "FROM\n",
    "  output_ages, output_monthly_stats, output_idle_times,\n",
    "  input_ages,  input_monthly_stats, input_idle_times\n",
    "WHERE TRUE\n",
    "  AND output_ages.output_ages_address = output_monthly_stats.output_monthly_stats_address\n",
    "  AND output_ages.output_ages_address = output_idle_times.idle_time_address\n",
    "  AND output_ages.output_ages_address = input_monthly_stats.input_monthly_stats_address\n",
    "  AND output_ages.output_ages_address = input_ages.input_ages_address\n",
    "  AND output_ages.output_ages_address = input_idle_times.idle_time_address\n",
    "  AND output_ages.output_ages_address IN\n",
    "(\n",
    "  SELECT \n",
    "    ARRAY_TO_STRING(outputs.addresses,',') AS miner\n",
    "  FROM \n",
    "  `bigquery-public-data.crypto_bitcoin.blocks` AS blocks,\n",
    "  `bigquery-public-data.crypto_bitcoin.transactions` AS transactions JOIN UNNEST(outputs) AS outputs\n",
    "  WHERE blocks.hash = transactions.block_hash \n",
    "    AND is_coinbase IS TRUE\n",
    "    AND ( FALSE\n",
    "      --\n",
    "      -- miner signatures from https://en.bitcoin.it/wiki/Comparison_of_mining_pools\n",
    "      --\n",
    "      OR coinbase_param LIKE '%4d696e656420627920416e74506f6f6c%' --AntPool\n",
    "      OR coinbase_param LIKE '%2f42434d6f6e737465722f%' --BCMonster\n",
    "      --BitcoinAffiliateNetwork\n",
    "      OR coinbase_param LIKE '%4269744d696e746572%' --BitMinter\n",
    "      --BTC.com\n",
    "      --BTCC Pool\n",
    "      --BTCDig\n",
    "      OR coinbase_param LIKE '%2f7374726174756d2f%' --Btcmp\n",
    "      --btcZPool.com\n",
    "      --BW Mining\n",
    "      OR coinbase_param LIKE '%456c6967697573%' --Eligius\n",
    "      --F2Pool\n",
    "      --GHash.IO\n",
    "      --Give Me COINS\n",
    "      --Golden Nonce Pool\n",
    "      OR coinbase_param LIKE '%2f627261766f2d6d696e696e672f%' --Bravo Mining\n",
    "      OR coinbase_param LIKE '%4b616e6f%' --KanoPool\n",
    "      --kmdPool.org\n",
    "      OR coinbase_param LIKE '%2f6d6d706f6f6c%' --Merge Mining Pool\n",
    "      --MergeMining\n",
    "      --Multipool\n",
    "      --P2Pool\n",
    "      OR coinbase_param LIKE '%2f736c7573682f%' --Slush Pool\n",
    "      --ZenPool.org\n",
    "    )\n",
    "  GROUP BY miner\n",
    "  HAVING COUNT(1) >= 20 \n",
    ")\n",
    "LIMIT {})\n",
    "UNION ALL\n",
    "(SELECT\n",
    "  FALSE AS is_miner,\n",
    "  output_ages_address AS address,\n",
    "  UNIX_SECONDS(CAST(output_ages.output_month_min AS TIMESTAMP)) AS output_month_min,\n",
    "  UNIX_SECONDS(CAST(output_ages.output_month_max AS TIMESTAMP)) AS output_month_max,\n",
    "  UNIX_SECONDS(CAST(input_ages.input_month_min AS TIMESTAMP)) AS input_month_min,\n",
    "  UNIX_SECONDS(CAST(input_ages.input_month_max AS TIMESTAMP)) AS input_month_max,\n",
    "  UNIX_SECONDS(CAST(output_ages.output_month_max AS TIMESTAMP)) - UNIX_SECONDS(CAST(output_ages.output_month_min AS TIMESTAMP)) AS output_active_time,\n",
    "  UNIX_SECONDS(CAST(input_ages.input_month_max AS TIMESTAMP)) - UNIX_SECONDS(CAST(input_ages.input_month_min AS TIMESTAMP)) AS input_active_time,\n",
    "  UNIX_SECONDS(CAST(output_ages.output_month_max AS TIMESTAMP)) - UNIX_SECONDS(CAST(input_ages.input_month_max AS TIMESTAMP)) AS io_max_lag,\n",
    "  UNIX_SECONDS(CAST(output_ages.output_month_min AS TIMESTAMP)) - UNIX_SECONDS(CAST(input_ages.input_month_min AS TIMESTAMP)) AS io_min_lag,\n",
    "  output_monthly_stats.output_active_months,\n",
    "  output_monthly_stats.total_tx_output_count,\n",
    "  output_monthly_stats.total_tx_output_value,\n",
    "  output_monthly_stats.mean_tx_output_value,\n",
    "  output_monthly_stats.stddev_tx_output_value,\n",
    "  output_monthly_stats.total_output_tx,\n",
    "  output_monthly_stats.mean_monthly_output_value,\n",
    "  output_monthly_stats.mean_monthly_output_count,\n",
    "  input_monthly_stats.input_active_months,\n",
    "  input_monthly_stats.total_tx_input_count,\n",
    "  input_monthly_stats.total_tx_input_value,\n",
    "  input_monthly_stats.mean_tx_input_value,\n",
    "  input_monthly_stats.stddev_tx_input_value,\n",
    "  input_monthly_stats.total_input_tx,\n",
    "  input_monthly_stats.mean_monthly_input_value,\n",
    "  input_monthly_stats.mean_monthly_input_count,\n",
    "  output_idle_times.mean_output_idle_time,\n",
    "  output_idle_times.stddev_output_idle_time,\n",
    "  input_idle_times.mean_input_idle_time,\n",
    "  input_idle_times.stddev_input_idle_time\n",
    "FROM\n",
    "  output_ages, output_monthly_stats, output_idle_times,\n",
    "  input_ages,  input_monthly_stats, input_idle_times\n",
    "WHERE TRUE\n",
    "  AND output_ages.output_ages_address = output_monthly_stats.output_monthly_stats_address\n",
    "  AND output_ages.output_ages_address = output_idle_times.idle_time_address\n",
    "  AND output_ages.output_ages_address = input_monthly_stats.input_monthly_stats_address\n",
    "  AND output_ages.output_ages_address = input_ages.input_ages_address\n",
    "  AND output_ages.output_ages_address = input_idle_times.idle_time_address\n",
    "  AND output_ages.output_ages_address NOT IN\n",
    "(\n",
    "  SELECT \n",
    "    ARRAY_TO_STRING(outputs.addresses,',') AS miner\n",
    "  FROM \n",
    "  `bigquery-public-data.crypto_bitcoin.blocks` AS blocks,\n",
    "  `bigquery-public-data.crypto_bitcoin.transactions` AS transactions JOIN UNNEST(outputs) AS outputs\n",
    "  WHERE blocks.hash = transactions.block_hash \n",
    "    AND is_coinbase IS TRUE\n",
    "    AND ( FALSE\n",
    "      --\n",
    "      -- miner signatures from https://en.bitcoin.it/wiki/Comparison_of_mining_pools\n",
    "      --\n",
    "      OR coinbase_param LIKE '%4d696e656420627920416e74506f6f6c%' --AntPool\n",
    "      OR coinbase_param LIKE '%2f42434d6f6e737465722f%' --BCMonster\n",
    "      --BitcoinAffiliateNetwork\n",
    "      OR coinbase_param LIKE '%4269744d696e746572%' --BitMinter\n",
    "      --BTC.com\n",
    "      --BTCC Pool\n",
    "      --BTCDig\n",
    "      OR coinbase_param LIKE '%2f7374726174756d2f%' --Btcmp\n",
    "      --btcZPool.com\n",
    "      --BW Mining\n",
    "      OR coinbase_param LIKE '%456c6967697573%' --Eligius\n",
    "      --F2Pool\n",
    "      --GHash.IO\n",
    "      --Give Me COINS\n",
    "      --Golden Nonce Pool\n",
    "      OR coinbase_param LIKE '%2f627261766f2d6d696e696e672f%' --Bravo Mining\n",
    "      OR coinbase_param LIKE '%4b616e6f%' --KanoPool\n",
    "      --kmdPool.org\n",
    "      OR coinbase_param LIKE '%2f6d6d706f6f6c%' --Merge Mining Pool\n",
    "      --MergeMining\n",
    "      --Multipool\n",
    "      --P2Pool\n",
    "      OR coinbase_param LIKE '%2f736c7573682f%' --Slush Pool\n",
    "      --ZenPool.org\n",
    "    )\n",
    "  GROUP BY miner\n",
    "  HAVING COUNT(1) >= 20 \n",
    ")\n",
    "LIMIT {})\n",
    "'''.format(miner_vectors_limit, non_miner_vectors_limit)"
   ]
  },
  {
   "cell_type": "code",
   "execution_count": 6,
   "metadata": {},
   "outputs": [
    {
     "name": "stderr",
     "output_type": "stream",
     "text": [
      "/usr/local/lib/python3.8/dist-packages/google/cloud/bigquery/client.py:406: UserWarning: Cannot create BigQuery Storage client, the dependency google-cloud-bigquery-storage is not installed.\n",
      "  warnings.warn(\n"
     ]
    },
    {
     "name": "stdout",
     "output_type": "stream",
     "text": [
      "Time to query live Bitcoin Blockchain: 1677.61119389534 seconds.\n",
      "Number of DataFrame Rows: 6010032\n",
      "Number of DataFrame Columns: 30\n"
     ]
    }
   ],
   "source": [
    "start_time = time.time()\n",
    "df = client.query(sql_btc_txns).to_dataframe()\n",
    "query_duration = time.time() - start_time\n",
    "print(f\"Time to query live Bitcoin Blockchain: {query_duration} seconds.\")\n",
    "print(f\"Number of DataFrame Rows: {len(df.index)}\")\n",
    "print(f\"Number of DataFrame Columns: {len(df.columns)}\")"
   ]
  },
  {
   "cell_type": "code",
   "execution_count": 10,
   "metadata": {},
   "outputs": [
    {
     "name": "stdout",
     "output_type": "stream",
     "text": [
      "<class 'pandas.core.frame.DataFrame'>\n",
      "RangeIndex: 6010032 entries, 0 to 6010031\n",
      "Data columns (total 30 columns):\n",
      " #   Column                     Dtype  \n",
      "---  ------                     -----  \n",
      " 0   is_miner                   bool   \n",
      " 1   address                    object \n",
      " 2   output_month_min           int64  \n",
      " 3   output_month_max           int64  \n",
      " 4   input_month_min            int64  \n",
      " 5   input_month_max            int64  \n",
      " 6   output_active_time         int64  \n",
      " 7   input_active_time          int64  \n",
      " 8   io_max_lag                 int64  \n",
      " 9   io_min_lag                 int64  \n",
      " 10  output_active_months       int64  \n",
      " 11  total_tx_output_count      int64  \n",
      " 12  total_tx_output_value      object \n",
      " 13  mean_tx_output_value       object \n",
      " 14  stddev_tx_output_value     float64\n",
      " 15  total_output_tx            int64  \n",
      " 16  mean_monthly_output_value  object \n",
      " 17  mean_monthly_output_count  float64\n",
      " 18  input_active_months        int64  \n",
      " 19  total_tx_input_count       int64  \n",
      " 20  total_tx_input_value       object \n",
      " 21  mean_tx_input_value        object \n",
      " 22  stddev_tx_input_value      float64\n",
      " 23  total_input_tx             int64  \n",
      " 24  mean_monthly_input_value   object \n",
      " 25  mean_monthly_input_count   float64\n",
      " 26  mean_output_idle_time      float64\n",
      " 27  stddev_output_idle_time    float64\n",
      " 28  mean_input_idle_time       float64\n",
      " 29  stddev_input_idle_time     float64\n",
      "dtypes: bool(1), float64(8), int64(14), object(7)\n",
      "memory usage: 1.3+ GB\n"
     ]
    }
   ],
   "source": [
    "df.info()"
   ]
  },
  {
   "cell_type": "markdown",
   "metadata": {},
   "source": [
    "### Benchmarking Disk Read/Write Speed with Pandas Binary Formats\n",
    "\n",
    "When the number of observations in your dataset is high, the process of saving and loading data back into the memory becomes slower, and each kernel’s restart steals time and forces you to wait until the data reloads _(as seen by the **Time to query** variable above)._\n",
    "\n",
    "There are plenty of panda-supported binary formats to store the data on disk. \n",
    "\n",
    "**We go through several methods to save and load pandas.DataFrame onto disk and see which one is best in terms of I/O speed...**\n",
    "\n",
    "Source: https://tinyurl.com/y5kbyfj2"
   ]
  },
  {
   "cell_type": "code",
   "execution_count": 58,
   "metadata": {},
   "outputs": [
    {
     "name": "stdout",
     "output_type": "stream",
     "text": [
      "Parquet is a standard storage format for analytics that is supported by AWS, BigQuery, Impala, Hive & Spark and is designed for long-term storage with layers of encoding and compression\n",
      "\n",
      "bitcoin2_parquet:\n",
      "1min 8s ± 1.97 s per loop (mean ± std. dev. of 7 runs, 1 loop each)\n",
      "bitcoin2_parquet:\n",
      "1min 30s ± 769 ms per loop (mean ± std. dev. of 7 runs, 1 loop each)\n"
     ]
    }
   ],
   "source": [
    "print(\"Parquet is a standard storage format for analytics that is supported by AWS, BigQuery, Impala, Hive & Spark and is designed for long-term storage with layers of encoding and compression\\n\")\n",
    "\n",
    "print('bitcoin2_parquet:')\n",
    "%timeit pyarrow.parquet.write_table(pyarrow.Table.from_pandas(df), 'bitcoin2.parquet')\n",
    "\n",
    "print('bitcoin2_parquet:')\n",
    "%timeit pyarrow.parquet.read_table('bitcoin2.parquet', use_threads = True).to_pandas() # parallelize data read from disk using multiple threads."
   ]
  },
  {
   "cell_type": "code",
   "execution_count": 59,
   "metadata": {},
   "outputs": [
    {
     "name": "stdout",
     "output_type": "stream",
     "text": [
      "Feather is a binary data format for quick loading and transformation which enables faster I/O speeds and less memory and with which data frames can be exchanged between Python and R\n",
      "\n",
      "bitcoin2_feather:\n",
      "1min 4s ± 2.33 s per loop (mean ± std. dev. of 7 runs, 1 loop each)\n",
      "bitcoin2_feather:\n",
      "1min 28s ± 1.89 s per loop (mean ± std. dev. of 7 runs, 1 loop each)\n"
     ]
    }
   ],
   "source": [
    "print(\"Feather is a binary data format for quick loading and transformation which enables faster I/O speeds and less memory and with which data frames can be exchanged between Python and R\\n\")\n",
    "\n",
    "print('bitcoin2_feather:')\n",
    "%timeit pyarrow.feather.write_feather(df, 'bitcoin2_feather')\n",
    "\n",
    "print('bitcoin2_feather:')\n",
    "%timeit pyarrow.feather.read_feather('bitcoin2_feather', use_threads = True) # parallelize data read from disk using multiple threads."
   ]
  },
  {
   "cell_type": "code",
   "execution_count": 60,
   "metadata": {},
   "outputs": [
    {
     "name": "stdout",
     "output_type": "stream",
     "text": [
      "HDF5 is a standard for storing huge volumens of multi-dimensional data in hierarchical groups with the root group on top just like the UNIX file system\n",
      "\n",
      "bitcoin_hdf:\n"
     ]
    },
    {
     "ename": "TypeError",
     "evalue": "to_hdf() got an unexpected keyword argument 'table'",
     "output_type": "error",
     "traceback": [
      "\u001b[0;31m---------------------------------------------------------------------------\u001b[0m",
      "\u001b[0;31mTypeError\u001b[0m                                 Traceback (most recent call last)",
      "\u001b[0;32m<ipython-input-60-5c3dd455d397>\u001b[0m in \u001b[0;36m<module>\u001b[0;34m\u001b[0m\n\u001b[1;32m      4\u001b[0m \u001b[0;34m\u001b[0m\u001b[0m\n\u001b[1;32m      5\u001b[0m \u001b[0mprint\u001b[0m\u001b[0;34m(\u001b[0m\u001b[0;34m'bitcoin_hdf:'\u001b[0m\u001b[0;34m)\u001b[0m\u001b[0;34m\u001b[0m\u001b[0;34m\u001b[0m\u001b[0m\n\u001b[0;32m----> 6\u001b[0;31m \u001b[0mget_ipython\u001b[0m\u001b[0;34m(\u001b[0m\u001b[0;34m)\u001b[0m\u001b[0;34m.\u001b[0m\u001b[0mrun_line_magic\u001b[0m\u001b[0;34m(\u001b[0m\u001b[0;34m'timeit'\u001b[0m\u001b[0;34m,\u001b[0m \u001b[0;34m\"df.to_hdf('bitcoin_hdf', 'key_to_store', mode = 'w', table = False)\"\u001b[0m\u001b[0;34m)\u001b[0m\u001b[0;34m\u001b[0m\u001b[0;34m\u001b[0m\u001b[0m\n\u001b[0m\u001b[1;32m      7\u001b[0m \u001b[0;34m\u001b[0m\u001b[0m\n\u001b[1;32m      8\u001b[0m \u001b[0;31m# print('example_hdf:')\u001b[0m\u001b[0;34m\u001b[0m\u001b[0;34m\u001b[0m\u001b[0;34m\u001b[0m\u001b[0m\n",
      "\u001b[0;32m/usr/local/lib/python3.8/dist-packages/IPython/core/interactiveshell.py\u001b[0m in \u001b[0;36mrun_line_magic\u001b[0;34m(self, magic_name, line, _stack_depth)\u001b[0m\n\u001b[1;32m   2324\u001b[0m                 \u001b[0mkwargs\u001b[0m\u001b[0;34m[\u001b[0m\u001b[0;34m'local_ns'\u001b[0m\u001b[0;34m]\u001b[0m \u001b[0;34m=\u001b[0m \u001b[0mself\u001b[0m\u001b[0;34m.\u001b[0m\u001b[0mget_local_scope\u001b[0m\u001b[0;34m(\u001b[0m\u001b[0mstack_depth\u001b[0m\u001b[0;34m)\u001b[0m\u001b[0;34m\u001b[0m\u001b[0;34m\u001b[0m\u001b[0m\n\u001b[1;32m   2325\u001b[0m             \u001b[0;32mwith\u001b[0m \u001b[0mself\u001b[0m\u001b[0;34m.\u001b[0m\u001b[0mbuiltin_trap\u001b[0m\u001b[0;34m:\u001b[0m\u001b[0;34m\u001b[0m\u001b[0;34m\u001b[0m\u001b[0m\n\u001b[0;32m-> 2326\u001b[0;31m                 \u001b[0mresult\u001b[0m \u001b[0;34m=\u001b[0m \u001b[0mfn\u001b[0m\u001b[0;34m(\u001b[0m\u001b[0;34m*\u001b[0m\u001b[0margs\u001b[0m\u001b[0;34m,\u001b[0m \u001b[0;34m**\u001b[0m\u001b[0mkwargs\u001b[0m\u001b[0;34m)\u001b[0m\u001b[0;34m\u001b[0m\u001b[0;34m\u001b[0m\u001b[0m\n\u001b[0m\u001b[1;32m   2327\u001b[0m             \u001b[0;32mreturn\u001b[0m \u001b[0mresult\u001b[0m\u001b[0;34m\u001b[0m\u001b[0;34m\u001b[0m\u001b[0m\n\u001b[1;32m   2328\u001b[0m \u001b[0;34m\u001b[0m\u001b[0m\n",
      "\u001b[0;32m</usr/local/lib/python3.8/dist-packages/decorator.py:decorator-gen-60>\u001b[0m in \u001b[0;36mtimeit\u001b[0;34m(self, line, cell, local_ns)\u001b[0m\n",
      "\u001b[0;32m/usr/local/lib/python3.8/dist-packages/IPython/core/magic.py\u001b[0m in \u001b[0;36m<lambda>\u001b[0;34m(f, *a, **k)\u001b[0m\n\u001b[1;32m    185\u001b[0m     \u001b[0;31m# but it's overkill for just that one bit of state.\u001b[0m\u001b[0;34m\u001b[0m\u001b[0;34m\u001b[0m\u001b[0;34m\u001b[0m\u001b[0m\n\u001b[1;32m    186\u001b[0m     \u001b[0;32mdef\u001b[0m \u001b[0mmagic_deco\u001b[0m\u001b[0;34m(\u001b[0m\u001b[0marg\u001b[0m\u001b[0;34m)\u001b[0m\u001b[0;34m:\u001b[0m\u001b[0;34m\u001b[0m\u001b[0;34m\u001b[0m\u001b[0m\n\u001b[0;32m--> 187\u001b[0;31m         \u001b[0mcall\u001b[0m \u001b[0;34m=\u001b[0m \u001b[0;32mlambda\u001b[0m \u001b[0mf\u001b[0m\u001b[0;34m,\u001b[0m \u001b[0;34m*\u001b[0m\u001b[0ma\u001b[0m\u001b[0;34m,\u001b[0m \u001b[0;34m**\u001b[0m\u001b[0mk\u001b[0m\u001b[0;34m:\u001b[0m \u001b[0mf\u001b[0m\u001b[0;34m(\u001b[0m\u001b[0;34m*\u001b[0m\u001b[0ma\u001b[0m\u001b[0;34m,\u001b[0m \u001b[0;34m**\u001b[0m\u001b[0mk\u001b[0m\u001b[0;34m)\u001b[0m\u001b[0;34m\u001b[0m\u001b[0;34m\u001b[0m\u001b[0m\n\u001b[0m\u001b[1;32m    188\u001b[0m \u001b[0;34m\u001b[0m\u001b[0m\n\u001b[1;32m    189\u001b[0m         \u001b[0;32mif\u001b[0m \u001b[0mcallable\u001b[0m\u001b[0;34m(\u001b[0m\u001b[0marg\u001b[0m\u001b[0;34m)\u001b[0m\u001b[0;34m:\u001b[0m\u001b[0;34m\u001b[0m\u001b[0;34m\u001b[0m\u001b[0m\n",
      "\u001b[0;32m/usr/local/lib/python3.8/dist-packages/IPython/core/magics/execution.py\u001b[0m in \u001b[0;36mtimeit\u001b[0;34m(self, line, cell, local_ns)\u001b[0m\n\u001b[1;32m   1167\u001b[0m             \u001b[0;32mfor\u001b[0m \u001b[0mindex\u001b[0m \u001b[0;32min\u001b[0m \u001b[0mrange\u001b[0m\u001b[0;34m(\u001b[0m\u001b[0;36m0\u001b[0m\u001b[0;34m,\u001b[0m \u001b[0;36m10\u001b[0m\u001b[0;34m)\u001b[0m\u001b[0;34m:\u001b[0m\u001b[0;34m\u001b[0m\u001b[0;34m\u001b[0m\u001b[0m\n\u001b[1;32m   1168\u001b[0m                 \u001b[0mnumber\u001b[0m \u001b[0;34m=\u001b[0m \u001b[0;36m10\u001b[0m \u001b[0;34m**\u001b[0m \u001b[0mindex\u001b[0m\u001b[0;34m\u001b[0m\u001b[0;34m\u001b[0m\u001b[0m\n\u001b[0;32m-> 1169\u001b[0;31m                 \u001b[0mtime_number\u001b[0m \u001b[0;34m=\u001b[0m \u001b[0mtimer\u001b[0m\u001b[0;34m.\u001b[0m\u001b[0mtimeit\u001b[0m\u001b[0;34m(\u001b[0m\u001b[0mnumber\u001b[0m\u001b[0;34m)\u001b[0m\u001b[0;34m\u001b[0m\u001b[0;34m\u001b[0m\u001b[0m\n\u001b[0m\u001b[1;32m   1170\u001b[0m                 \u001b[0;32mif\u001b[0m \u001b[0mtime_number\u001b[0m \u001b[0;34m>=\u001b[0m \u001b[0;36m0.2\u001b[0m\u001b[0;34m:\u001b[0m\u001b[0;34m\u001b[0m\u001b[0;34m\u001b[0m\u001b[0m\n\u001b[1;32m   1171\u001b[0m                     \u001b[0;32mbreak\u001b[0m\u001b[0;34m\u001b[0m\u001b[0;34m\u001b[0m\u001b[0m\n",
      "\u001b[0;32m/usr/local/lib/python3.8/dist-packages/IPython/core/magics/execution.py\u001b[0m in \u001b[0;36mtimeit\u001b[0;34m(self, number)\u001b[0m\n\u001b[1;32m    167\u001b[0m         \u001b[0mgc\u001b[0m\u001b[0;34m.\u001b[0m\u001b[0mdisable\u001b[0m\u001b[0;34m(\u001b[0m\u001b[0;34m)\u001b[0m\u001b[0;34m\u001b[0m\u001b[0;34m\u001b[0m\u001b[0m\n\u001b[1;32m    168\u001b[0m         \u001b[0;32mtry\u001b[0m\u001b[0;34m:\u001b[0m\u001b[0;34m\u001b[0m\u001b[0;34m\u001b[0m\u001b[0m\n\u001b[0;32m--> 169\u001b[0;31m             \u001b[0mtiming\u001b[0m \u001b[0;34m=\u001b[0m \u001b[0mself\u001b[0m\u001b[0;34m.\u001b[0m\u001b[0minner\u001b[0m\u001b[0;34m(\u001b[0m\u001b[0mit\u001b[0m\u001b[0;34m,\u001b[0m \u001b[0mself\u001b[0m\u001b[0;34m.\u001b[0m\u001b[0mtimer\u001b[0m\u001b[0;34m)\u001b[0m\u001b[0;34m\u001b[0m\u001b[0;34m\u001b[0m\u001b[0m\n\u001b[0m\u001b[1;32m    170\u001b[0m         \u001b[0;32mfinally\u001b[0m\u001b[0;34m:\u001b[0m\u001b[0;34m\u001b[0m\u001b[0;34m\u001b[0m\u001b[0m\n\u001b[1;32m    171\u001b[0m             \u001b[0;32mif\u001b[0m \u001b[0mgcold\u001b[0m\u001b[0;34m:\u001b[0m\u001b[0;34m\u001b[0m\u001b[0;34m\u001b[0m\u001b[0m\n",
      "\u001b[0;32m<magic-timeit>\u001b[0m in \u001b[0;36minner\u001b[0;34m(_it, _timer)\u001b[0m\n",
      "\u001b[0;31mTypeError\u001b[0m: to_hdf() got an unexpected keyword argument 'table'"
     ]
    }
   ],
   "source": [
    "warnings.filterwarnings('ignore',category = pandas.io.pytables.PerformanceWarning)\n",
    "\n",
    "print(\"HDF5 is a standard for storing huge volumens of multi-dimensional data in hierarchical groups with the root group on top just like the UNIX file system\\n\")\n",
    "\n",
    "print('bitcoin_hdf:')\n",
    "%timeit df.to_hdf('bitcoin_hdf', 'key_to_store', mode = 'w', table = False)\n",
    "\n",
    "# print('example_hdf:')\n",
    "# %timeit pandas.read_hdf('bitcoin_hdf')"
   ]
  },
  {
   "cell_type": "code",
   "execution_count": 12,
   "metadata": {},
   "outputs": [
    {
     "name": "stdout",
     "output_type": "stream",
     "text": [
      "Pickles are primarily used in serializing and deserializing Python object structures from bytestreams to act as file or database storage, maintain program state across sessions, or transport data over the network\n",
      "\n",
      "bitcoin_pickle_protocol_2:\n",
      "1min 6s ± 3.05 s per loop (mean ± std. dev. of 7 runs, 1 loop each)\n",
      "bitcoin_pickle_protocol_2:\n",
      "19.4 s ± 28.7 ms per loop (mean ± std. dev. of 7 runs, 1 loop each)\n"
     ]
    }
   ],
   "source": [
    "print(\"Pickles are primarily used in serializing and deserializing Python object structures from bytestreams to act as file or database storage, maintain program state across sessions, or transport data over the network\\n\")\n",
    "\n",
    "print('bitcoin_pickle_protocol_2:')\n",
    "%timeit df.to_pickle('bitcoin_pickle_protocol_2', protocol =2)\n",
    "\n",
    "print('bitcoin_pickle_protocol_2:')\n",
    "%timeit pandas.read_pickle('bitcoin_pickle_protocol_2')"
   ]
  },
  {
   "cell_type": "code",
   "execution_count": 13,
   "metadata": {},
   "outputs": [
    {
     "name": "stdout",
     "output_type": "stream",
     "text": [
      "<class 'pandas.core.frame.DataFrame'>\n",
      "RangeIndex: 5410032 entries, 0 to 5410031\n",
      "Data columns (total 30 columns):\n",
      " #   Column                     Dtype  \n",
      "---  ------                     -----  \n",
      " 0   is_miner                   bool   \n",
      " 1   address                    object \n",
      " 2   output_month_min           int64  \n",
      " 3   output_month_max           int64  \n",
      " 4   input_month_min            int64  \n",
      " 5   input_month_max            int64  \n",
      " 6   output_active_time         int64  \n",
      " 7   input_active_time          int64  \n",
      " 8   io_max_lag                 int64  \n",
      " 9   io_min_lag                 int64  \n",
      " 10  output_active_months       int64  \n",
      " 11  total_tx_output_count      int64  \n",
      " 12  total_tx_output_value      object \n",
      " 13  mean_tx_output_value       object \n",
      " 14  stddev_tx_output_value     float64\n",
      " 15  total_output_tx            int64  \n",
      " 16  mean_monthly_output_value  object \n",
      " 17  mean_monthly_output_count  float64\n",
      " 18  input_active_months        int64  \n",
      " 19  total_tx_input_count       int64  \n",
      " 20  total_tx_input_value       object \n",
      " 21  mean_tx_input_value        object \n",
      " 22  stddev_tx_input_value      float64\n",
      " 23  total_input_tx             int64  \n",
      " 24  mean_monthly_input_value   object \n",
      " 25  mean_monthly_input_count   float64\n",
      " 26  mean_output_idle_time      float64\n",
      " 27  stddev_output_idle_time    float64\n",
      " 28  mean_input_idle_time       float64\n",
      " 29  stddev_input_idle_time     float64\n",
      "dtypes: bool(1), float64(8), int64(14), object(7)\n",
      "memory usage: 1.2+ GB\n"
     ]
    }
   ],
   "source": [
    "unpickled_dataframe = pandas.read_pickle(\"example_pickle\")\n",
    "unpickled_dataframe.info()"
   ]
  },
  {
   "cell_type": "markdown",
   "metadata": {},
   "source": [
    "Cleaning data to drop columns that contain features with null values"
   ]
  },
  {
   "cell_type": "code",
   "execution_count": 14,
   "metadata": {},
   "outputs": [],
   "source": [
    "unpickled_dataframe.drop(labels = ['stddev_output_idle_time','stddev_input_idle_time'], axis = 1, inplace = True)"
   ]
  },
  {
   "cell_type": "code",
   "execution_count": 15,
   "metadata": {},
   "outputs": [
    {
     "data": {
      "text/html": [
       "<div>\n",
       "<style scoped>\n",
       "    .dataframe tbody tr th:only-of-type {\n",
       "        vertical-align: middle;\n",
       "    }\n",
       "\n",
       "    .dataframe tbody tr th {\n",
       "        vertical-align: top;\n",
       "    }\n",
       "\n",
       "    .dataframe thead th {\n",
       "        text-align: right;\n",
       "    }\n",
       "</style>\n",
       "<table border=\"1\" class=\"dataframe\">\n",
       "  <thead>\n",
       "    <tr style=\"text-align: right;\">\n",
       "      <th></th>\n",
       "      <th>is_miner</th>\n",
       "      <th>address</th>\n",
       "      <th>output_month_min</th>\n",
       "      <th>output_month_max</th>\n",
       "      <th>input_month_min</th>\n",
       "      <th>input_month_max</th>\n",
       "      <th>output_active_time</th>\n",
       "      <th>input_active_time</th>\n",
       "      <th>io_max_lag</th>\n",
       "      <th>io_min_lag</th>\n",
       "      <th>...</th>\n",
       "      <th>input_active_months</th>\n",
       "      <th>total_tx_input_count</th>\n",
       "      <th>total_tx_input_value</th>\n",
       "      <th>mean_tx_input_value</th>\n",
       "      <th>stddev_tx_input_value</th>\n",
       "      <th>total_input_tx</th>\n",
       "      <th>mean_monthly_input_value</th>\n",
       "      <th>mean_monthly_input_count</th>\n",
       "      <th>mean_output_idle_time</th>\n",
       "      <th>mean_input_idle_time</th>\n",
       "    </tr>\n",
       "  </thead>\n",
       "  <tbody>\n",
       "    <tr>\n",
       "      <th>0</th>\n",
       "      <td>False</td>\n",
       "      <td>1MnvtVRaoY4dTimq339orVxXj7w4fR8gjw</td>\n",
       "      <td>1501545600</td>\n",
       "      <td>1541030400</td>\n",
       "      <td>1501545600</td>\n",
       "      <td>1541030400</td>\n",
       "      <td>39484800</td>\n",
       "      <td>39484800</td>\n",
       "      <td>0</td>\n",
       "      <td>0</td>\n",
       "      <td>...</td>\n",
       "      <td>8</td>\n",
       "      <td>42</td>\n",
       "      <td>19069707550.000000000</td>\n",
       "      <td>454040655.952380952</td>\n",
       "      <td>5.875064e+08</td>\n",
       "      <td>40</td>\n",
       "      <td>454040655.952380952</td>\n",
       "      <td>1.0</td>\n",
       "      <td>1.161160e+06</td>\n",
       "      <td>1.041992e+06</td>\n",
       "    </tr>\n",
       "    <tr>\n",
       "      <th>1</th>\n",
       "      <td>False</td>\n",
       "      <td>3LQsGxNQatdzAgWAVDTNQkzyG2s1NYAAKx</td>\n",
       "      <td>1556668800</td>\n",
       "      <td>1559347200</td>\n",
       "      <td>1556668800</td>\n",
       "      <td>1559347200</td>\n",
       "      <td>2678400</td>\n",
       "      <td>2678400</td>\n",
       "      <td>0</td>\n",
       "      <td>0</td>\n",
       "      <td>...</td>\n",
       "      <td>2</td>\n",
       "      <td>17</td>\n",
       "      <td>34130200.000000000</td>\n",
       "      <td>2007658.823529412</td>\n",
       "      <td>3.668853e+06</td>\n",
       "      <td>17</td>\n",
       "      <td>2007658.823529412</td>\n",
       "      <td>1.0</td>\n",
       "      <td>1.845218e+05</td>\n",
       "      <td>2.260233e+05</td>\n",
       "    </tr>\n",
       "    <tr>\n",
       "      <th>2</th>\n",
       "      <td>False</td>\n",
       "      <td>3PoSmWuxwUdVL75wxEz9r7Sw1TXE2UTcHF</td>\n",
       "      <td>1577836800</td>\n",
       "      <td>1593561600</td>\n",
       "      <td>1577836800</td>\n",
       "      <td>1593561600</td>\n",
       "      <td>15724800</td>\n",
       "      <td>15724800</td>\n",
       "      <td>0</td>\n",
       "      <td>0</td>\n",
       "      <td>...</td>\n",
       "      <td>4</td>\n",
       "      <td>22</td>\n",
       "      <td>17557978.000000000</td>\n",
       "      <td>798089.909090909</td>\n",
       "      <td>3.110418e+05</td>\n",
       "      <td>22</td>\n",
       "      <td>798089.909090909</td>\n",
       "      <td>1.0</td>\n",
       "      <td>7.529924e+05</td>\n",
       "      <td>7.529553e+05</td>\n",
       "    </tr>\n",
       "    <tr>\n",
       "      <th>3</th>\n",
       "      <td>False</td>\n",
       "      <td>3AsMay2zohhd79ky89T79qe88t1mB8RFcb</td>\n",
       "      <td>1535760000</td>\n",
       "      <td>1577836800</td>\n",
       "      <td>1535760000</td>\n",
       "      <td>1583020800</td>\n",
       "      <td>42076800</td>\n",
       "      <td>47260800</td>\n",
       "      <td>-5184000</td>\n",
       "      <td>0</td>\n",
       "      <td>...</td>\n",
       "      <td>19</td>\n",
       "      <td>922</td>\n",
       "      <td>318852119.000000000</td>\n",
       "      <td>345826.593275488</td>\n",
       "      <td>7.453159e+05</td>\n",
       "      <td>627</td>\n",
       "      <td>345826.593275488</td>\n",
       "      <td>1.0</td>\n",
       "      <td>4.718330e+04</td>\n",
       "      <td>9.834612e+04</td>\n",
       "    </tr>\n",
       "    <tr>\n",
       "      <th>4</th>\n",
       "      <td>False</td>\n",
       "      <td>bc1qanc7cnyxu2rnqwjpfq6lp76fr5tn8ujgp5ctcw</td>\n",
       "      <td>1575158400</td>\n",
       "      <td>1593561600</td>\n",
       "      <td>1577836800</td>\n",
       "      <td>1593561600</td>\n",
       "      <td>18403200</td>\n",
       "      <td>15724800</td>\n",
       "      <td>0</td>\n",
       "      <td>-2678400</td>\n",
       "      <td>...</td>\n",
       "      <td>7</td>\n",
       "      <td>24</td>\n",
       "      <td>12629582.000000000</td>\n",
       "      <td>526232.583333333</td>\n",
       "      <td>1.996834e+04</td>\n",
       "      <td>18</td>\n",
       "      <td>526232.583333333</td>\n",
       "      <td>1.0</td>\n",
       "      <td>8.222581e+05</td>\n",
       "      <td>8.944998e+05</td>\n",
       "    </tr>\n",
       "  </tbody>\n",
       "</table>\n",
       "<p>5 rows × 28 columns</p>\n",
       "</div>"
      ],
      "text/plain": [
       "   is_miner                                     address  output_month_min  \\\n",
       "0     False          1MnvtVRaoY4dTimq339orVxXj7w4fR8gjw        1501545600   \n",
       "1     False          3LQsGxNQatdzAgWAVDTNQkzyG2s1NYAAKx        1556668800   \n",
       "2     False          3PoSmWuxwUdVL75wxEz9r7Sw1TXE2UTcHF        1577836800   \n",
       "3     False          3AsMay2zohhd79ky89T79qe88t1mB8RFcb        1535760000   \n",
       "4     False  bc1qanc7cnyxu2rnqwjpfq6lp76fr5tn8ujgp5ctcw        1575158400   \n",
       "\n",
       "   output_month_max  input_month_min  input_month_max  output_active_time  \\\n",
       "0        1541030400       1501545600       1541030400            39484800   \n",
       "1        1559347200       1556668800       1559347200             2678400   \n",
       "2        1593561600       1577836800       1593561600            15724800   \n",
       "3        1577836800       1535760000       1583020800            42076800   \n",
       "4        1593561600       1577836800       1593561600            18403200   \n",
       "\n",
       "   input_active_time  io_max_lag  io_min_lag  ...  input_active_months  \\\n",
       "0           39484800           0           0  ...                    8   \n",
       "1            2678400           0           0  ...                    2   \n",
       "2           15724800           0           0  ...                    4   \n",
       "3           47260800    -5184000           0  ...                   19   \n",
       "4           15724800           0    -2678400  ...                    7   \n",
       "\n",
       "   total_tx_input_count   total_tx_input_value  mean_tx_input_value  \\\n",
       "0                    42  19069707550.000000000  454040655.952380952   \n",
       "1                    17     34130200.000000000    2007658.823529412   \n",
       "2                    22     17557978.000000000     798089.909090909   \n",
       "3                   922    318852119.000000000     345826.593275488   \n",
       "4                    24     12629582.000000000     526232.583333333   \n",
       "\n",
       "   stddev_tx_input_value  total_input_tx mean_monthly_input_value  \\\n",
       "0           5.875064e+08              40      454040655.952380952   \n",
       "1           3.668853e+06              17        2007658.823529412   \n",
       "2           3.110418e+05              22         798089.909090909   \n",
       "3           7.453159e+05             627         345826.593275488   \n",
       "4           1.996834e+04              18         526232.583333333   \n",
       "\n",
       "   mean_monthly_input_count  mean_output_idle_time  mean_input_idle_time  \n",
       "0                       1.0           1.161160e+06          1.041992e+06  \n",
       "1                       1.0           1.845218e+05          2.260233e+05  \n",
       "2                       1.0           7.529924e+05          7.529553e+05  \n",
       "3                       1.0           4.718330e+04          9.834612e+04  \n",
       "4                       1.0           8.222581e+05          8.944998e+05  \n",
       "\n",
       "[5 rows x 28 columns]"
      ]
     },
     "execution_count": 15,
     "metadata": {},
     "output_type": "execute_result"
    }
   ],
   "source": [
    "unpickled_dataframe.head(5)"
   ]
  },
  {
   "cell_type": "code",
   "execution_count": 16,
   "metadata": {},
   "outputs": [
    {
     "data": {
      "text/html": [
       "<div>\n",
       "<style scoped>\n",
       "    .dataframe tbody tr th:only-of-type {\n",
       "        vertical-align: middle;\n",
       "    }\n",
       "\n",
       "    .dataframe tbody tr th {\n",
       "        vertical-align: top;\n",
       "    }\n",
       "\n",
       "    .dataframe thead th {\n",
       "        text-align: right;\n",
       "    }\n",
       "</style>\n",
       "<table border=\"1\" class=\"dataframe\">\n",
       "  <thead>\n",
       "    <tr style=\"text-align: right;\">\n",
       "      <th></th>\n",
       "      <th>is_miner</th>\n",
       "      <th>address</th>\n",
       "      <th>output_month_min</th>\n",
       "      <th>output_month_max</th>\n",
       "      <th>input_month_min</th>\n",
       "      <th>input_month_max</th>\n",
       "      <th>output_active_time</th>\n",
       "      <th>input_active_time</th>\n",
       "      <th>io_max_lag</th>\n",
       "      <th>io_min_lag</th>\n",
       "      <th>...</th>\n",
       "      <th>input_active_months</th>\n",
       "      <th>total_tx_input_count</th>\n",
       "      <th>total_tx_input_value</th>\n",
       "      <th>mean_tx_input_value</th>\n",
       "      <th>stddev_tx_input_value</th>\n",
       "      <th>total_input_tx</th>\n",
       "      <th>mean_monthly_input_value</th>\n",
       "      <th>mean_monthly_input_count</th>\n",
       "      <th>mean_output_idle_time</th>\n",
       "      <th>mean_input_idle_time</th>\n",
       "    </tr>\n",
       "  </thead>\n",
       "  <tbody>\n",
       "    <tr>\n",
       "      <th>5410027</th>\n",
       "      <td>False</td>\n",
       "      <td>1LFUkT6cc42NyHEWz985R742yb6UvQuWep</td>\n",
       "      <td>1575158400</td>\n",
       "      <td>1585699200</td>\n",
       "      <td>1575158400</td>\n",
       "      <td>1585699200</td>\n",
       "      <td>10540800</td>\n",
       "      <td>10540800</td>\n",
       "      <td>0</td>\n",
       "      <td>0</td>\n",
       "      <td>...</td>\n",
       "      <td>5</td>\n",
       "      <td>19</td>\n",
       "      <td>34659400.000000000</td>\n",
       "      <td>1824178.947368421</td>\n",
       "      <td>2.575641e+06</td>\n",
       "      <td>14</td>\n",
       "      <td>1824178.947368421</td>\n",
       "      <td>1.0</td>\n",
       "      <td>4.963660e+05</td>\n",
       "      <td>7.874838e+05</td>\n",
       "    </tr>\n",
       "    <tr>\n",
       "      <th>5410028</th>\n",
       "      <td>False</td>\n",
       "      <td>39t6JNrntZ1KUcDSEcQqu2Fshf8P5yGYPX</td>\n",
       "      <td>1580515200</td>\n",
       "      <td>1593561600</td>\n",
       "      <td>1585699200</td>\n",
       "      <td>1596240000</td>\n",
       "      <td>13046400</td>\n",
       "      <td>10540800</td>\n",
       "      <td>-2678400</td>\n",
       "      <td>-5184000</td>\n",
       "      <td>...</td>\n",
       "      <td>3</td>\n",
       "      <td>19</td>\n",
       "      <td>18869619.000000000</td>\n",
       "      <td>993137.842105263</td>\n",
       "      <td>1.353353e+06</td>\n",
       "      <td>3</td>\n",
       "      <td>993137.842105263</td>\n",
       "      <td>1.0</td>\n",
       "      <td>7.231419e+05</td>\n",
       "      <td>4.096154e+06</td>\n",
       "    </tr>\n",
       "    <tr>\n",
       "      <th>5410029</th>\n",
       "      <td>False</td>\n",
       "      <td>1NCcd6AyoigD6o5E7Qv6Zd52CDBqUt6WY9</td>\n",
       "      <td>1593561600</td>\n",
       "      <td>1596240000</td>\n",
       "      <td>1593561600</td>\n",
       "      <td>1596240000</td>\n",
       "      <td>2678400</td>\n",
       "      <td>2678400</td>\n",
       "      <td>0</td>\n",
       "      <td>0</td>\n",
       "      <td>...</td>\n",
       "      <td>2</td>\n",
       "      <td>19</td>\n",
       "      <td>1102791.000000000</td>\n",
       "      <td>58041.631578947</td>\n",
       "      <td>1.312936e+04</td>\n",
       "      <td>7</td>\n",
       "      <td>58041.631578947</td>\n",
       "      <td>1.0</td>\n",
       "      <td>7.493485e+04</td>\n",
       "      <td>1.680068e+05</td>\n",
       "    </tr>\n",
       "    <tr>\n",
       "      <th>5410030</th>\n",
       "      <td>False</td>\n",
       "      <td>114qX87btSEnMcmNG9a8vfHagzGT4YJeb</td>\n",
       "      <td>1512086400</td>\n",
       "      <td>1564617600</td>\n",
       "      <td>1512086400</td>\n",
       "      <td>1564617600</td>\n",
       "      <td>52531200</td>\n",
       "      <td>52531200</td>\n",
       "      <td>0</td>\n",
       "      <td>0</td>\n",
       "      <td>...</td>\n",
       "      <td>6</td>\n",
       "      <td>19</td>\n",
       "      <td>192791339.000000000</td>\n",
       "      <td>10146912.578947368</td>\n",
       "      <td>1.203622e+07</td>\n",
       "      <td>19</td>\n",
       "      <td>10146912.578947368</td>\n",
       "      <td>1.0</td>\n",
       "      <td>2.943274e+06</td>\n",
       "      <td>2.943728e+06</td>\n",
       "    </tr>\n",
       "    <tr>\n",
       "      <th>5410031</th>\n",
       "      <td>False</td>\n",
       "      <td>18n3uTizDjq4qF1oR9WAFM4fafoUoDjC3j</td>\n",
       "      <td>1480550400</td>\n",
       "      <td>1509494400</td>\n",
       "      <td>1480550400</td>\n",
       "      <td>1514764800</td>\n",
       "      <td>28944000</td>\n",
       "      <td>34214400</td>\n",
       "      <td>-5270400</td>\n",
       "      <td>0</td>\n",
       "      <td>...</td>\n",
       "      <td>4</td>\n",
       "      <td>19</td>\n",
       "      <td>24870955.000000000</td>\n",
       "      <td>1308997.631578947</td>\n",
       "      <td>5.427828e+05</td>\n",
       "      <td>5</td>\n",
       "      <td>1308997.631578947</td>\n",
       "      <td>1.0</td>\n",
       "      <td>1.677838e+06</td>\n",
       "      <td>8.287532e+06</td>\n",
       "    </tr>\n",
       "  </tbody>\n",
       "</table>\n",
       "<p>5 rows × 28 columns</p>\n",
       "</div>"
      ],
      "text/plain": [
       "         is_miner                             address  output_month_min  \\\n",
       "5410027     False  1LFUkT6cc42NyHEWz985R742yb6UvQuWep        1575158400   \n",
       "5410028     False  39t6JNrntZ1KUcDSEcQqu2Fshf8P5yGYPX        1580515200   \n",
       "5410029     False  1NCcd6AyoigD6o5E7Qv6Zd52CDBqUt6WY9        1593561600   \n",
       "5410030     False   114qX87btSEnMcmNG9a8vfHagzGT4YJeb        1512086400   \n",
       "5410031     False  18n3uTizDjq4qF1oR9WAFM4fafoUoDjC3j        1480550400   \n",
       "\n",
       "         output_month_max  input_month_min  input_month_max  \\\n",
       "5410027        1585699200       1575158400       1585699200   \n",
       "5410028        1593561600       1585699200       1596240000   \n",
       "5410029        1596240000       1593561600       1596240000   \n",
       "5410030        1564617600       1512086400       1564617600   \n",
       "5410031        1509494400       1480550400       1514764800   \n",
       "\n",
       "         output_active_time  input_active_time  io_max_lag  io_min_lag  ...  \\\n",
       "5410027            10540800           10540800           0           0  ...   \n",
       "5410028            13046400           10540800    -2678400    -5184000  ...   \n",
       "5410029             2678400            2678400           0           0  ...   \n",
       "5410030            52531200           52531200           0           0  ...   \n",
       "5410031            28944000           34214400    -5270400           0  ...   \n",
       "\n",
       "         input_active_months  total_tx_input_count total_tx_input_value  \\\n",
       "5410027                    5                    19   34659400.000000000   \n",
       "5410028                    3                    19   18869619.000000000   \n",
       "5410029                    2                    19    1102791.000000000   \n",
       "5410030                    6                    19  192791339.000000000   \n",
       "5410031                    4                    19   24870955.000000000   \n",
       "\n",
       "        mean_tx_input_value  stddev_tx_input_value  total_input_tx  \\\n",
       "5410027   1824178.947368421           2.575641e+06              14   \n",
       "5410028    993137.842105263           1.353353e+06               3   \n",
       "5410029     58041.631578947           1.312936e+04               7   \n",
       "5410030  10146912.578947368           1.203622e+07              19   \n",
       "5410031   1308997.631578947           5.427828e+05               5   \n",
       "\n",
       "        mean_monthly_input_value  mean_monthly_input_count  \\\n",
       "5410027        1824178.947368421                       1.0   \n",
       "5410028         993137.842105263                       1.0   \n",
       "5410029          58041.631578947                       1.0   \n",
       "5410030       10146912.578947368                       1.0   \n",
       "5410031        1308997.631578947                       1.0   \n",
       "\n",
       "         mean_output_idle_time  mean_input_idle_time  \n",
       "5410027           4.963660e+05          7.874838e+05  \n",
       "5410028           7.231419e+05          4.096154e+06  \n",
       "5410029           7.493485e+04          1.680068e+05  \n",
       "5410030           2.943274e+06          2.943728e+06  \n",
       "5410031           1.677838e+06          8.287532e+06  \n",
       "\n",
       "[5 rows x 28 columns]"
      ]
     },
     "execution_count": 16,
     "metadata": {},
     "output_type": "execute_result"
    }
   ],
   "source": [
    "unpickled_dataframe.tail(5)"
   ]
  },
  {
   "cell_type": "markdown",
   "metadata": {},
   "source": [
    "Removing columns with non-numerical features from x variables"
   ]
  },
  {
   "cell_type": "code",
   "execution_count": 17,
   "metadata": {},
   "outputs": [],
   "source": [
    "X = unpickled_dataframe.drop(labels = ['is_miner','address'], axis = 1)"
   ]
  },
  {
   "cell_type": "markdown",
   "metadata": {},
   "source": [
    "Setting 'is_miner' as the target y variable"
   ]
  },
  {
   "cell_type": "code",
   "execution_count": 18,
   "metadata": {},
   "outputs": [],
   "source": [
    "y = unpickled_dataframe['is_miner'].values"
   ]
  },
  {
   "cell_type": "markdown",
   "metadata": {},
   "source": [
    "Row numbers identify which data points are selected in the training and test se"
   ]
  },
  {
   "cell_type": "code",
   "execution_count": 19,
   "metadata": {},
   "outputs": [
    {
     "name": "stdout",
     "output_type": "stream",
     "text": [
      "Number of Rows: range(0, 5410032)\n",
      "\n"
     ]
    }
   ],
   "source": [
    "row_number = range(len(X))\n",
    "print(f\"Number of Rows: {row_number}\\n\")"
   ]
  },
  {
   "cell_type": "markdown",
   "metadata": {},
   "source": [
    "Splitting input data into training and testing sets"
   ]
  },
  {
   "cell_type": "code",
   "execution_count": 20,
   "metadata": {},
   "outputs": [],
   "source": [
    "X_train, X_test, y_train, y_test, row_number_train, row_number_test = train_test_split(X, y, row_number, test_size = 0.2)"
   ]
  },
  {
   "cell_type": "code",
   "execution_count": 21,
   "metadata": {},
   "outputs": [
    {
     "data": {
      "text/html": [
       "<div>\n",
       "<style scoped>\n",
       "    .dataframe tbody tr th:only-of-type {\n",
       "        vertical-align: middle;\n",
       "    }\n",
       "\n",
       "    .dataframe tbody tr th {\n",
       "        vertical-align: top;\n",
       "    }\n",
       "\n",
       "    .dataframe thead th {\n",
       "        text-align: right;\n",
       "    }\n",
       "</style>\n",
       "<table border=\"1\" class=\"dataframe\">\n",
       "  <thead>\n",
       "    <tr style=\"text-align: right;\">\n",
       "      <th></th>\n",
       "      <th>output_month_min</th>\n",
       "      <th>output_month_max</th>\n",
       "      <th>input_month_min</th>\n",
       "      <th>input_month_max</th>\n",
       "      <th>output_active_time</th>\n",
       "      <th>input_active_time</th>\n",
       "      <th>io_max_lag</th>\n",
       "      <th>io_min_lag</th>\n",
       "      <th>output_active_months</th>\n",
       "      <th>total_tx_output_count</th>\n",
       "      <th>...</th>\n",
       "      <th>input_active_months</th>\n",
       "      <th>total_tx_input_count</th>\n",
       "      <th>total_tx_input_value</th>\n",
       "      <th>mean_tx_input_value</th>\n",
       "      <th>stddev_tx_input_value</th>\n",
       "      <th>total_input_tx</th>\n",
       "      <th>mean_monthly_input_value</th>\n",
       "      <th>mean_monthly_input_count</th>\n",
       "      <th>mean_output_idle_time</th>\n",
       "      <th>mean_input_idle_time</th>\n",
       "    </tr>\n",
       "  </thead>\n",
       "  <tbody>\n",
       "    <tr>\n",
       "      <th>2445149</th>\n",
       "      <td>1512086400</td>\n",
       "      <td>1512086400</td>\n",
       "      <td>1512086400</td>\n",
       "      <td>1514764800</td>\n",
       "      <td>0</td>\n",
       "      <td>2678400</td>\n",
       "      <td>-2678400</td>\n",
       "      <td>0</td>\n",
       "      <td>1</td>\n",
       "      <td>3</td>\n",
       "      <td>...</td>\n",
       "      <td>2</td>\n",
       "      <td>3</td>\n",
       "      <td>831334.000000000</td>\n",
       "      <td>277111.333333333</td>\n",
       "      <td>254016.658779</td>\n",
       "      <td>3</td>\n",
       "      <td>277111.333333333</td>\n",
       "      <td>1.0</td>\n",
       "      <td>480775.0</td>\n",
       "      <td>116769.5</td>\n",
       "    </tr>\n",
       "    <tr>\n",
       "      <th>709571</th>\n",
       "      <td>1556668800</td>\n",
       "      <td>1556668800</td>\n",
       "      <td>1556668800</td>\n",
       "      <td>1556668800</td>\n",
       "      <td>0</td>\n",
       "      <td>0</td>\n",
       "      <td>0</td>\n",
       "      <td>0</td>\n",
       "      <td>1</td>\n",
       "      <td>2</td>\n",
       "      <td>...</td>\n",
       "      <td>1</td>\n",
       "      <td>2</td>\n",
       "      <td>2225412.000000000</td>\n",
       "      <td>1112706.000000000</td>\n",
       "      <td>4683.875319</td>\n",
       "      <td>2</td>\n",
       "      <td>1112706.000000000</td>\n",
       "      <td>1.0</td>\n",
       "      <td>20974.0</td>\n",
       "      <td>23245.0</td>\n",
       "    </tr>\n",
       "  </tbody>\n",
       "</table>\n",
       "<p>2 rows × 26 columns</p>\n",
       "</div>"
      ],
      "text/plain": [
       "         output_month_min  output_month_max  input_month_min  input_month_max  \\\n",
       "2445149        1512086400        1512086400       1512086400       1514764800   \n",
       "709571         1556668800        1556668800       1556668800       1556668800   \n",
       "\n",
       "         output_active_time  input_active_time  io_max_lag  io_min_lag  \\\n",
       "2445149                   0            2678400    -2678400           0   \n",
       "709571                    0                  0           0           0   \n",
       "\n",
       "         output_active_months  total_tx_output_count  ... input_active_months  \\\n",
       "2445149                     1                      3  ...                   2   \n",
       "709571                      1                      2  ...                   1   \n",
       "\n",
       "        total_tx_input_count  total_tx_input_value  mean_tx_input_value  \\\n",
       "2445149                    3      831334.000000000     277111.333333333   \n",
       "709571                     2     2225412.000000000    1112706.000000000   \n",
       "\n",
       "        stddev_tx_input_value  total_input_tx  mean_monthly_input_value  \\\n",
       "2445149         254016.658779               3          277111.333333333   \n",
       "709571            4683.875319               2         1112706.000000000   \n",
       "\n",
       "         mean_monthly_input_count mean_output_idle_time mean_input_idle_time  \n",
       "2445149                       1.0              480775.0             116769.5  \n",
       "709571                        1.0               20974.0              23245.0  \n",
       "\n",
       "[2 rows x 26 columns]"
      ]
     },
     "execution_count": 21,
     "metadata": {},
     "output_type": "execute_result"
    }
   ],
   "source": [
    "(X_train).head(2)"
   ]
  },
  {
   "cell_type": "code",
   "execution_count": 22,
   "metadata": {},
   "outputs": [
    {
     "data": {
      "text/html": [
       "<div>\n",
       "<style scoped>\n",
       "    .dataframe tbody tr th:only-of-type {\n",
       "        vertical-align: middle;\n",
       "    }\n",
       "\n",
       "    .dataframe tbody tr th {\n",
       "        vertical-align: top;\n",
       "    }\n",
       "\n",
       "    .dataframe thead th {\n",
       "        text-align: right;\n",
       "    }\n",
       "</style>\n",
       "<table border=\"1\" class=\"dataframe\">\n",
       "  <thead>\n",
       "    <tr style=\"text-align: right;\">\n",
       "      <th></th>\n",
       "      <th>output_month_min</th>\n",
       "      <th>output_month_max</th>\n",
       "      <th>input_month_min</th>\n",
       "      <th>input_month_max</th>\n",
       "      <th>output_active_time</th>\n",
       "      <th>input_active_time</th>\n",
       "      <th>io_max_lag</th>\n",
       "      <th>io_min_lag</th>\n",
       "      <th>output_active_months</th>\n",
       "      <th>total_tx_output_count</th>\n",
       "      <th>...</th>\n",
       "      <th>input_active_months</th>\n",
       "      <th>total_tx_input_count</th>\n",
       "      <th>total_tx_input_value</th>\n",
       "      <th>mean_tx_input_value</th>\n",
       "      <th>stddev_tx_input_value</th>\n",
       "      <th>total_input_tx</th>\n",
       "      <th>mean_monthly_input_value</th>\n",
       "      <th>mean_monthly_input_count</th>\n",
       "      <th>mean_output_idle_time</th>\n",
       "      <th>mean_input_idle_time</th>\n",
       "    </tr>\n",
       "  </thead>\n",
       "  <tbody>\n",
       "    <tr>\n",
       "      <th>4897121</th>\n",
       "      <td>1398902400</td>\n",
       "      <td>1470009600</td>\n",
       "      <td>1433116800</td>\n",
       "      <td>1477958400</td>\n",
       "      <td>71107200</td>\n",
       "      <td>44841600</td>\n",
       "      <td>-7948800</td>\n",
       "      <td>-34214400</td>\n",
       "      <td>21</td>\n",
       "      <td>68</td>\n",
       "      <td>...</td>\n",
       "      <td>3</td>\n",
       "      <td>68</td>\n",
       "      <td>1158320.000000000</td>\n",
       "      <td>17034.117647059</td>\n",
       "      <td>10174.859032</td>\n",
       "      <td>3</td>\n",
       "      <td>17034.117647059</td>\n",
       "      <td>1.0</td>\n",
       "      <td>1.083282e+06</td>\n",
       "      <td>2.176029e+07</td>\n",
       "    </tr>\n",
       "    <tr>\n",
       "      <th>4670965</th>\n",
       "      <td>1483228800</td>\n",
       "      <td>1485907200</td>\n",
       "      <td>1496275200</td>\n",
       "      <td>1498867200</td>\n",
       "      <td>2678400</td>\n",
       "      <td>2592000</td>\n",
       "      <td>-12960000</td>\n",
       "      <td>-13046400</td>\n",
       "      <td>2</td>\n",
       "      <td>4</td>\n",
       "      <td>...</td>\n",
       "      <td>2</td>\n",
       "      <td>4</td>\n",
       "      <td>470000.000000000</td>\n",
       "      <td>117500.000000000</td>\n",
       "      <td>59090.326337</td>\n",
       "      <td>4</td>\n",
       "      <td>117500.000000000</td>\n",
       "      <td>1.0</td>\n",
       "      <td>4.151570e+05</td>\n",
       "      <td>4.309563e+05</td>\n",
       "    </tr>\n",
       "  </tbody>\n",
       "</table>\n",
       "<p>2 rows × 26 columns</p>\n",
       "</div>"
      ],
      "text/plain": [
       "         output_month_min  output_month_max  input_month_min  input_month_max  \\\n",
       "4897121        1398902400        1470009600       1433116800       1477958400   \n",
       "4670965        1483228800        1485907200       1496275200       1498867200   \n",
       "\n",
       "         output_active_time  input_active_time  io_max_lag  io_min_lag  \\\n",
       "4897121            71107200           44841600    -7948800   -34214400   \n",
       "4670965             2678400            2592000   -12960000   -13046400   \n",
       "\n",
       "         output_active_months  total_tx_output_count  ... input_active_months  \\\n",
       "4897121                    21                     68  ...                   3   \n",
       "4670965                     2                      4  ...                   2   \n",
       "\n",
       "        total_tx_input_count  total_tx_input_value  mean_tx_input_value  \\\n",
       "4897121                   68     1158320.000000000      17034.117647059   \n",
       "4670965                    4      470000.000000000     117500.000000000   \n",
       "\n",
       "        stddev_tx_input_value  total_input_tx  mean_monthly_input_value  \\\n",
       "4897121          10174.859032               3           17034.117647059   \n",
       "4670965          59090.326337               4          117500.000000000   \n",
       "\n",
       "         mean_monthly_input_count mean_output_idle_time mean_input_idle_time  \n",
       "4897121                       1.0          1.083282e+06         2.176029e+07  \n",
       "4670965                       1.0          4.151570e+05         4.309563e+05  \n",
       "\n",
       "[2 rows x 26 columns]"
      ]
     },
     "execution_count": 22,
     "metadata": {},
     "output_type": "execute_result"
    }
   ],
   "source": [
    "(X_test).head(2)"
   ]
  },
  {
   "cell_type": "markdown",
   "metadata": {},
   "source": [
    "**Random Forest Hyperparameters**\n",
    "* Training the random forest classification model on the training set\n",
    "* Running model jobs in parallel using all the processors available with n_jobs\n",
    "* Entropy chosen as criterion to measure quality of splits by information gain\n",
    "* 200 trees used in random forest for sufficient accuracy"
   ]
  },
  {
   "cell_type": "code",
   "execution_count": 24,
   "metadata": {},
   "outputs": [
    {
     "name": "stdout",
     "output_type": "stream",
     "text": [
      "peak memory: 20219.86 MiB, increment: 2505.56 MiB\n",
      "Random Forest Classification Max CPUs: 376.46727538108826 seconds\n"
     ]
    }
   ],
   "source": [
    "%load_ext memory_profiler\n",
    "rf_classifier_max_cpus = RandomForestClassifier(n_jobs = -1, criterion = 'entropy', n_estimators = 200)\n",
    "start_time_max = time.time()\n",
    "%memit rf_classifier_max_cpus.fit(X_train, y_train)\n",
    "random_forest_max_cpus_duration = time.time() - start_time_max\n",
    "print(f\"Random Forest Classification Max CPUs: {random_forest_max_cpus_duration} seconds\")"
   ]
  },
  {
   "cell_type": "markdown",
   "metadata": {},
   "source": [
    "Make predictions (y_pred) from our test features (X_test) using our Random Forest model"
   ]
  },
  {
   "cell_type": "code",
   "execution_count": 25,
   "metadata": {},
   "outputs": [
    {
     "data": {
      "text/plain": [
       "array([False, False, False, ..., False, False, False])"
      ]
     },
     "execution_count": 25,
     "metadata": {},
     "output_type": "execute_result"
    }
   ],
   "source": [
    "y_pred = rf_classifier_max_cpus.predict(X_test)\n",
    "y_pred"
   ]
  },
  {
   "cell_type": "markdown",
   "metadata": {},
   "source": [
    "Predicts the Probability of each row belonging to a Mining Pool (true)..."
   ]
  },
  {
   "cell_type": "code",
   "execution_count": 26,
   "metadata": {},
   "outputs": [
    {
     "data": {
      "text/plain": [
       "array([0., 0., 0., ..., 0., 0., 0.])"
      ]
     },
     "execution_count": 26,
     "metadata": {},
     "output_type": "execute_result"
    }
   ],
   "source": [
    "positive_class_probabilities = rf_classifier_max_cpus.predict_proba(X_test)[:,1]\n",
    "positive_class_probabilities"
   ]
  },
  {
   "cell_type": "markdown",
   "metadata": {},
   "source": [
    "#### Optimising Model Persistence (Pickle vs. JobLib)"
   ]
  },
  {
   "cell_type": "code",
   "execution_count": 27,
   "metadata": {},
   "outputs": [
    {
     "name": "stdout",
     "output_type": "stream",
     "text": [
      "peak memory: 20396.75 MiB, increment: 2277.12 MiB\n",
      "Random Forest Classification 8 CPUs: 365.0432255268097 seconds\n"
     ]
    }
   ],
   "source": [
    "rf_classifier_8_cpus = RandomForestClassifier(n_jobs = 8, criterion = 'entropy', n_estimators = 200)\n",
    "start_time = time.time()\n",
    "%memit rf_classifier_8_cpus.fit(X_train, y_train)\n",
    "random_forest_8_cpus_duration = time.time() - start_time\n",
    "print(f\"Random Forest Classification 8 CPUs: {random_forest_8_cpus_duration} seconds\")"
   ]
  },
  {
   "cell_type": "code",
   "execution_count": 31,
   "metadata": {},
   "outputs": [
    {
     "data": {
      "text/plain": [
       "['model_rf_8_cpu.joblib']"
      ]
     },
     "execution_count": 31,
     "metadata": {},
     "output_type": "execute_result"
    }
   ],
   "source": [
    "from joblib import dump, load\n",
    "dump(rf_classifier_8_cpus, 'model_rf_8_cpu.joblib')"
   ]
  },
  {
   "cell_type": "markdown",
   "metadata": {},
   "source": [
    "### Optimizing Random Forest Model Training with Multiple Cores (Memory vs Duration)"
   ]
  },
  {
   "cell_type": "code",
   "execution_count": 32,
   "metadata": {},
   "outputs": [
    {
     "name": "stdout",
     "output_type": "stream",
     "text": [
      "peak memory: 20291.38 MiB, increment: 2168.45 MiB\n",
      "Random Forest Classification 7 CPUs: 338.7181544303894 seconds\n"
     ]
    }
   ],
   "source": [
    "rf_classifier_7_cpus = RandomForestClassifier(n_jobs = 7, criterion = 'entropy', n_estimators = 200)\n",
    "start_time_7_cpus = time.time()\n",
    "%memit rf_classifier_7_cpus.fit(X_train, y_train)\n",
    "random_forest_7_cpus_duration = time.time() - start_time_7_cpus\n",
    "print(f\"Random Forest Classification 7 CPUs: {random_forest_7_cpus_duration} seconds\")"
   ]
  },
  {
   "cell_type": "code",
   "execution_count": 33,
   "metadata": {},
   "outputs": [
    {
     "name": "stdout",
     "output_type": "stream",
     "text": [
      "peak memory: 20040.06 MiB, increment: 1829.82 MiB\n",
      "Random Forest Classification 6 CPUs: 404.746701002121 seconds\n"
     ]
    }
   ],
   "source": [
    "rf_classifier_6_cpus = RandomForestClassifier(n_jobs = 6, criterion = 'entropy', n_estimators = 200)\n",
    "start_time_6_cpu = time.time()\n",
    "%memit rf_classifier_6_cpus.fit(X_train, y_train)\n",
    "random_forest_6_cpus_duration = time.time() - start_time_6_cpu\n",
    "print(f\"Random Forest Classification 6 CPUs: {random_forest_6_cpus_duration} seconds\")"
   ]
  },
  {
   "cell_type": "code",
   "execution_count": 34,
   "metadata": {},
   "outputs": [
    {
     "name": "stdout",
     "output_type": "stream",
     "text": [
      "peak memory: 19920.57 MiB, increment: 1612.38 MiB\n",
      "Random Forest Classification 5 CPUs: 422.2468008995056 seconds\n"
     ]
    }
   ],
   "source": [
    "rf_classifier_5_cpus = RandomForestClassifier(n_jobs = 5, criterion = 'entropy', n_estimators = 200)\n",
    "start_time_5_cpus = time.time()\n",
    "%memit rf_classifier_5_cpus.fit(X_train, y_train)\n",
    "random_forest_5_cpus_duration = time.time() - start_time_5_cpus\n",
    "print(f\"Random Forest Classification 5 CPUs: {random_forest_5_cpus_duration} seconds\")"
   ]
  },
  {
   "cell_type": "code",
   "execution_count": 35,
   "metadata": {},
   "outputs": [
    {
     "name": "stdout",
     "output_type": "stream",
     "text": [
      "peak memory: 19912.38 MiB, increment: 1518.85 MiB\n",
      "Random Forest Classification 4 CPUs: 450.6845819950104 seconds\n"
     ]
    }
   ],
   "source": [
    "rf_classifier_4_cpus = RandomForestClassifier(n_jobs = 4, criterion = 'entropy', n_estimators = 200)\n",
    "start_time_4_cpu = time.time()\n",
    "%memit rf_classifier_4_cpus.fit(X_train, y_train)\n",
    "random_forest_4_cpus_duration = time.time() - start_time_4_cpu\n",
    "print(f\"Random Forest Classification 4 CPUs: {random_forest_4_cpus_duration} seconds\")"
   ]
  },
  {
   "cell_type": "code",
   "execution_count": 36,
   "metadata": {},
   "outputs": [
    {
     "name": "stdout",
     "output_type": "stream",
     "text": [
      "peak memory: 19998.07 MiB, increment: 1518.81 MiB\n",
      "Random Forest Classification 3 CPUs: 558.6772050857544 seconds\n"
     ]
    }
   ],
   "source": [
    "rf_classifier_3_cpus = RandomForestClassifier(n_jobs = 3, criterion = 'entropy', n_estimators = 200)\n",
    "start_time_3_cpus = time.time()\n",
    "%memit rf_classifier_3_cpus.fit(X_train, y_train)\n",
    "random_forest_3_cpus_duration = time.time() - start_time_3_cpus\n",
    "print(f\"Random Forest Classification 3 CPUs: {random_forest_3_cpus_duration} seconds\")"
   ]
  },
  {
   "cell_type": "code",
   "execution_count": 37,
   "metadata": {},
   "outputs": [
    {
     "name": "stdout",
     "output_type": "stream",
     "text": [
      "peak memory: 20098.04 MiB, increment: 1518.81 MiB\n",
      "Random Forest Classification 2 CPUs: 808.5329873561859 seconds\n"
     ]
    }
   ],
   "source": [
    "rf_classifier_2_cpus = RandomForestClassifier(n_jobs = 2, criterion = 'entropy', n_estimators = 200)\n",
    "start_time_2_cpu = time.time()\n",
    "%memit rf_classifier_2_cpus.fit(X_train, y_train)\n",
    "random_forest_2_cpus_duration = time.time() - start_time_2_cpu\n",
    "print(f\"Random Forest Classification 2 CPUs: {random_forest_2_cpus_duration} seconds\")"
   ]
  },
  {
   "cell_type": "code",
   "execution_count": 38,
   "metadata": {},
   "outputs": [
    {
     "name": "stdout",
     "output_type": "stream",
     "text": [
      "peak memory: 20199.30 MiB, increment: 1518.91 MiB\n",
      "Random Forest Classification 1 CPU: 1554.3387501239777 seconds\n"
     ]
    }
   ],
   "source": [
    "rf_classifier_1_cpu = RandomForestClassifier(n_jobs = 1, criterion = 'entropy', n_estimators = 200)\n",
    "start_time_1_cpu = time.time()\n",
    "%memit rf_classifier_1_cpu.fit(X_train, y_train)\n",
    "random_forest_1_cpu_duration = time.time() - start_time_1_cpu\n",
    "print(f\"Random Forest Classification 1 CPU: {random_forest_1_cpu_duration} seconds\")"
   ]
  },
  {
   "cell_type": "code",
   "execution_count": 39,
   "metadata": {},
   "outputs": [
    {
     "data": {
      "image/png": "[encoded data removed]",
      "text/plain": [
       "<Figure size 432x288 with 1 Axes>"
      ]
     },
     "metadata": {
      "needs_background": "light"
     },
     "output_type": "display_data"
    }
   ],
   "source": [
    "cpu_count = [1, 2, 3, 4, 5, 6, 7, 8, 'max']\n",
    "times_elapsed = [random_forest_1_cpu_duration, random_forest_2_cpus_duration, random_forest_3_cpus_duration, random_forest_4_cpus_duration, random_forest_5_cpus_duration, random_forest_6_cpus_duration, random_forest_7_cpus_duration, random_forest_8_cpus_duration, random_forest_max_cpus_duration]\n",
    "matplotlib.pyplot.plot(cpu_count, times_elapsed, color = '#f2a900', label = 'Multiple-CPU Random Forest Classification Runtime')\n",
    "matplotlib.pyplot.legend()\n",
    "matplotlib.pyplot.xlabel('CPU Count')\n",
    "matplotlib.pyplot.ylabel('Wall Clock Time')\n",
    "matplotlib.pyplot.savefig('cpu_count_v_rf_runtime')"
   ]
  },
  {
   "cell_type": "markdown",
   "metadata": {},
   "source": [
    "### How good is our Model?\n",
    "\n",
    "#### Precision-Recall Tradeoff\n",
    "\n",
    "**High precision** relates to a low false positive rate\n",
    "\n",
    "**High recall** relates to a low false negative rate \n",
    "\n",
    "##### An ideal system with high precision and high recall will return many results, with all results labeled correctly\n",
    "\n",
    "######  Note:\n",
    "* _A system with high recall but low precision returns many results, but most of its predicted labels are incorrect when compared to the training labels_ \n",
    "\n",
    "* _A system with high precision but low recall is just the opposite, returning very few results, but most of its predicted labels are correct when compared to the training labels_\n",
    "\n",
    "Source: https://tinyurl.com/yxbjk26m"
   ]
  },
  {
   "cell_type": "code",
   "execution_count": 40,
   "metadata": {},
   "outputs": [],
   "source": [
    "precision, recall, thresholds = precision_recall_curve(y_test, positive_class_probabilities)"
   ]
  },
  {
   "cell_type": "code",
   "execution_count": 41,
   "metadata": {},
   "outputs": [
    {
     "name": "stdout",
     "output_type": "stream",
     "text": [
      "\n",
      "The color = #f2a900 parameter ensures the plotline is bitcoin orange\n",
      "\n",
      "The alpha = 1 parameter makes the plotline 100% opaque vs. the area under the curve alpha = 0.4 i.e. 40% opaque\n",
      "\n",
      "The where = post parameter ensures y-values are continued constantly to the right from every x-position\n",
      "\n"
     ]
    },
    {
     "data": {
      "text/plain": [
       "Text(0.5, 0.01, 'In information retrieval, precision is a measure of result relevancy, while recall is a measure of how many truly relevant results are returned')"
      ]
     },
     "execution_count": 41,
     "metadata": {},
     "output_type": "execute_result"
    },
    {
     "data": {
      "image/png": "[encoded data removed]",
      "text/plain": [
       "<Figure size 576x432 with 1 Axes>"
      ]
     },
     "metadata": {
      "needs_background": "light"
     },
     "output_type": "display_data"
    }
   ],
   "source": [
    "figure, axis = matplotlib.pyplot.subplots(figsize = (8, 6))\n",
    "step_kwargs = ({'step': 'post'}\n",
    "               if 'step' in signature(matplotlib.pyplot.fill_between).parameters\n",
    "               else {})\n",
    "\n",
    "print(\"\\nThe color = #f2a900 parameter ensures the plotline is bitcoin orange\\n\")\n",
    "print(\"The alpha = 1 parameter makes the plotline 100% opaque vs. the area under the curve alpha = 0.4 i.e. 40% opaque\\n\")\n",
    "print(\"The where = post parameter ensures y-values are continued constantly to the right from every x-position\\n\")\n",
    "\n",
    "matplotlib.pyplot.step(recall, precision, color = '#f2a900', alpha = 1, where = 'post')\n",
    "matplotlib.pyplot.fill_between(recall, precision, alpha = 0.4, color = '#f2a900', **step_kwargs)\n",
    "matplotlib.pyplot.xlabel('Recall')\n",
    "matplotlib.pyplot.ylabel('Precision')\n",
    "matplotlib.pyplot.title('Precision-recall tradeoff for mining pool detection\\n', fontsize = 16)\n",
    "axis.xaxis.set_major_formatter(matplotlib.ticker.PercentFormatter(1.0))\n",
    "axis.yaxis.set_major_formatter(matplotlib.ticker.PercentFormatter(1.0))\n",
    "caption = \"In information retrieval, precision is a measure of result relevancy, while recall is a measure of how many truly relevant results are returned\"\n",
    "figure.text(.5, .01, caption, ha = 'center')"
   ]
  },
  {
   "cell_type": "markdown",
   "metadata": {},
   "source": [
    "#### Confusion Matrix Computation\n",
    "\n",
    "A confusion matrix is a 2x2 table used to **visualize the learning performance** of a supervised classification algorithm (Random Forest) on a set of test data for which the true values are known\n",
    "\n",
    "Source: https://tinyurl.com/yypv62js"
   ]
  },
  {
   "cell_type": "code",
   "execution_count": 42,
   "metadata": {},
   "outputs": [],
   "source": [
    "def plot_confusion_matrix(cm, classes, normalize = False, title = 'Confusion matrix', cmap = matplotlib.pyplot.cm.Blues):\n",
    "    \"\"\"\n",
    "    This function prints and plots the confusion matrix.\n",
    "    Normalization can be applied by setting `normalize=True`.\n",
    "    \"\"\"\n",
    "    if normalize:\n",
    "        cm = cm.astype('float') / cm.sum(axis = 1)[:, numpy.newaxis]\n",
    "        print(\"Normalized confusion matrix\")\n",
    "    else:\n",
    "        print('Confusion matrix, without normalization')\n",
    "\n",
    "    print(cm)\n",
    "    dummy = numpy.array([[0, 0],[0, 0]])\n",
    "    matplotlib.pyplot.figure(figsize = (8,6))\n",
    "    matplotlib.pyplot.imshow(dummy, interpolation = 'nearest', cmap = cmap)\n",
    "    matplotlib.pyplot.title(title)\n",
    "    tick_marks = numpy.arange(len(classes))\n",
    "    matplotlib.pyplot.xticks(tick_marks, classes, rotation = 45)\n",
    "    matplotlib.pyplot.yticks(tick_marks, classes)\n",
    "\n",
    "    fmt = '.2f' if normalize else 'd'\n",
    "    thresh = cm.max() / 2.\n",
    "    for i, j in itertools.product(range(cm.shape[0]), range(cm.shape[1])):\n",
    "        plt.text(j, i, format(cm[i, j], fmt),\n",
    "                 horizontalalignment = \"center\",\n",
    "                 color = \"black\")\n",
    "\n",
    "    matplotlib.pyplot.ylabel('True label')\n",
    "    matplotlib.pyplot.xlabel('Predicted label')\n",
    "    matplotlib.pyplot.tight_layout()\n",
    "    \n",
    "    # Source: https://tinyurl.com/yyn7tpah"
   ]
  },
  {
   "cell_type": "markdown",
   "metadata": {},
   "source": [
    "### How good is our Model?\n",
    "#### Precision-Recall Tradeoff\n",
    "_Objective: Predict the Probability of each row belonging to a Mining Pool_\n",
    "* **High precision** relates to a low false positive rate\n",
    "\n",
    "* **High recall** relates to a low false negative rate \n",
    "\n",
    "##### An ideal system with high precision and high recall will return many results, with all results labeled correctly\n",
    "\n",
    "######  Note:\n",
    "* _A system with high recall but low precision returns many results, but most of its predicted labels are incorrect when compared to the training labels_ \n",
    "\n",
    "* _A system with high precision but low recall is just the opposite, returning very few results, but most of its predicted labels are correct when compared to the training labels_\n",
    "\n",
    "Source: https://tinyurl.com/yxbjk26m"
   ]
  },
  {
   "cell_type": "markdown",
   "metadata": {},
   "source": [
    "#### Function to plot Precision-Recall Curve\n",
    "\n",
    "**_matplotlib.pyplot.step_ parameters:**\n",
    "\n",
    "* The color = #f2a900 parameter ensures the plotline is bitcoin orange\n",
    "* The alpha = 1 parameter makes the plotline 100% opaque vs. the area under the curve alpha = 0.4 i.e. 40% opaque\n",
    "* The where = post parameter ensures y-values are continued constantly to the right from every x-position\n"
   ]
  },
  {
   "cell_type": "code",
   "execution_count": 43,
   "metadata": {},
   "outputs": [],
   "source": [
    "def plot_precision_recall_tradeoff(_precision, _recall):\n",
    "    figure, axis = matplotlib.pyplot.subplots(figsize = (8, 6))\n",
    "    step_kwargs = ({'step': 'post'}\n",
    "               if 'step' in signature(matplotlib.pyplot.fill_between).parameters\n",
    "               else {})\n",
    "    \n",
    "    matplotlib.pyplot.step(_recall, _precision, color = '#f2a900', alpha = 1, where = 'post')\n",
    "    matplotlib.pyplot.fill_between(_recall, _precision, alpha = 0.4, color = '#f2a900', **step_kwargs)\n",
    "    matplotlib.pyplot.xlabel('Recall')\n",
    "    matplotlib.pyplot.ylabel('Precision')\n",
    "    matplotlib.pyplot.title('Precision-recall tradeoff for mining pool detection\\n', fontsize = 16)\n",
    "    axis.xaxis.set_major_formatter(matplotlib.ticker.PercentFormatter(1.0))\n",
    "    axis.yaxis.set_major_formatter(matplotlib.ticker.PercentFormatter(1.0))\n",
    "    caption = \"In information retrieval, precision is a measure of result relevancy, while recall is a measure of how many truly relevant results are returned\"\n",
    "    figure.text(.5, .01, caption, ha = 'center')"
   ]
  },
  {
   "cell_type": "code",
   "execution_count": 44,
   "metadata": {},
   "outputs": [
    {
     "data": {
      "text/plain": [
       "array([0., 0., 0., ..., 0., 0., 0.])"
      ]
     },
     "execution_count": 44,
     "metadata": {},
     "output_type": "execute_result"
    },
    {
     "data": {
      "image/png": "[encoded data removed]",
      "text/plain": [
       "<Figure size 576x432 with 1 Axes>"
      ]
     },
     "metadata": {
      "needs_background": "light"
     },
     "output_type": "display_data"
    }
   ],
   "source": [
    "positive_class_probabilities_rf_max_cpus = rf_classifier_max_cpus.predict_proba(X_test)[:,1]\n",
    "precision_rf_max, recall_rf_max, thresholds_rf_max = precision_recall_curve(y_test, positive_class_probabilities_rf_max_cpus)\n",
    "plot_precision_recall_tradeoff(precision_rf_max, recall_rf_max)\n",
    "positive_class_probabilities_rf_max_cpus"
   ]
  },
  {
   "cell_type": "markdown",
   "metadata": {},
   "source": [
    "#### Predicting whether Mining Pool vs Non Mining Pool (y-pred)\n",
    "\n",
    "Make predictions (y_pred) from our test features (X_test) using our Random Forest model (8-CPU version)"
   ]
  },
  {
   "cell_type": "code",
   "execution_count": 45,
   "metadata": {},
   "outputs": [
    {
     "data": {
      "text/plain": [
       "array([False, False, False, ..., False, False, False])"
      ]
     },
     "execution_count": 45,
     "metadata": {},
     "output_type": "execute_result"
    }
   ],
   "source": [
    "y_pred_rf_max_cpus = rf_classifier_max_cpus.predict(X_test)\n",
    "y_pred_rf_max_cpus"
   ]
  },
  {
   "cell_type": "markdown",
   "metadata": {},
   "source": [
    "#### Confusion Matrix Computation\n",
    "\n",
    "A confusion matrix is a 2x2 table used to **visualize the learning performance** of a supervised classification algorithm (Random Forest) on a set of test data for which the true values are known\n",
    "\n",
    "Source: https://tinyurl.com/yypv62js"
   ]
  },
  {
   "cell_type": "code",
   "execution_count": 46,
   "metadata": {},
   "outputs": [],
   "source": [
    "def plot_confusion_matrix(cm, classes, normalize = False, title = 'Confusion matrix\\n', cmap = matplotlib.pyplot.cm.Blues):\n",
    "    \"\"\"\n",
    "    This function prints and plots the confusion matrix.\n",
    "    Normalization can be applied by setting `normalize=True`.\n",
    "    \"\"\"\n",
    "    if normalize:\n",
    "        cm = cm.astype('float') / cm.sum(axis = 1)[:, np.newaxis]\n",
    "        print(\"Normalized confusion matrix\")\n",
    "    else:\n",
    "        print('Confusion matrix, without normalization')\n",
    "\n",
    "    print(cm)\n",
    "    dummy = numpy.array([[0, 0], [0, 0]])\n",
    "    matplotlib.pyplot.figure(figsize = (8, 6))\n",
    "    matplotlib.pyplot.imshow(dummy, interpolation = 'nearest', cmap = cmap)\n",
    "    matplotlib.pyplot.title(title)\n",
    "    tick_marks = numpy.arange(len(classes))\n",
    "    matplotlib.pyplot.xticks(tick_marks, classes, rotation = 45)\n",
    "    matplotlib.pyplot.yticks(tick_marks, classes)\n",
    "\n",
    "    fmt = '.2f' if normalize else 'd'\n",
    "    thresh = cm.max() / 2.\n",
    "    for i, j in itertools.product(range(cm.shape[0]), range(cm.shape[1])):\n",
    "        matplotlib.pyplot.text(j, i, format(cm[i, j], fmt),\n",
    "                 horizontalalignment = \"center\",\n",
    "                 color = \"black\")\n",
    "\n",
    "    matplotlib.pyplot.ylabel('Actual Label')\n",
    "    matplotlib.pyplot.xlabel('Predicted Classification')\n",
    "    matplotlib.pyplot.tight_layout()"
   ]
  },
  {
   "cell_type": "markdown",
   "metadata": {},
   "source": [
    "Confusion Matrix Plot Source: https://tinyurl.com/yyn7tpah"
   ]
  },
  {
   "cell_type": "markdown",
   "metadata": {},
   "source": [
    "#### Function to plot Precision-Recall Curve"
   ]
  },
  {
   "cell_type": "code",
   "execution_count": 47,
   "metadata": {},
   "outputs": [
    {
     "name": "stdout",
     "output_type": "stream",
     "text": [
      "Confusion matrix, without normalization\n",
      "[[1079779     264]\n",
      " [    912    1052]]\n"
     ]
    },
    {
     "data": {
      "text/plain": [
       "<Figure size 432x288 with 0 Axes>"
      ]
     },
     "metadata": {},
     "output_type": "display_data"
    },
    {
     "data": {
      "image/png": "[encoded data removed]",
      "text/plain": [
       "<Figure size 576x432 with 1 Axes>"
      ]
     },
     "metadata": {
      "needs_background": "light"
     },
     "output_type": "display_data"
    }
   ],
   "source": [
    "cnf_matrix = confusion_matrix(y_test, y_pred_rf_max_cpus)\n",
    "class_names = ['not mining pool', 'mining pool']\n",
    "numpy.set_printoptions(precision = 2)\n",
    "matplotlib.pyplot.figure()\n",
    "plot_confusion_matrix(cnf_matrix, classes = class_names, normalize = False, title = 'Mining Pool Detector | Confusion Matrix\\n')"
   ]
  },
  {
   "cell_type": "markdown",
   "metadata": {},
   "source": [
    "### Best Mining Pool Indicator \n",
    "\n",
    "Which features _(in the bitcoin transaction)_ best indicate whether it will be mined by a publicly known mining pool (provide the most signal)?"
   ]
  },
  {
   "cell_type": "markdown",
   "metadata": {},
   "source": [
    "#### How many features to plot?\n",
    "Let's visualize the importance of the top 10 X variables within a Bitcoin transaction that contribute to the mining pool prediction"
   ]
  },
  {
   "cell_type": "code",
   "execution_count": 48,
   "metadata": {},
   "outputs": [],
   "source": [
    "def plot_feature_importance(_input_features, _x_pos):\n",
    "    matplotlib.pyplot.figure(figsize = (12, 6))\n",
    "    matplotlib.pyplot.barh(_x_pos, _input_features, bar_width, label = 'BTC model')\n",
    "    matplotlib.pyplot.yticks(x_pos, cols, rotation = 0, fontsize = 14)\n",
    "    matplotlib.pyplot.xlabel('Transaction Feature Importance', fontsize = 14)\n",
    "    matplotlib.pyplot.title('Mining Pool Indicator', fontsize = 20)\n",
    "    matplotlib.pyplot.tight_layout()"
   ]
  },
  {
   "cell_type": "code",
   "execution_count": 49,
   "metadata": {},
   "outputs": [],
   "source": [
    "x_pos = numpy.arange(len(X.columns))\n",
    "btc_importances = rf_classifier_max_cpus.feature_importances_\n",
    "inds = numpy.argsort(btc_importances)[::-1] # lists indexes of sorted array in descending order\n",
    "btc_importances_ranked = btc_importances[inds]\n",
    "cols = X.columns[inds]\n",
    "bar_width = .8\n",
    "n_features = 12\n",
    "x_pos_2 = x_pos[:n_features][::-1]\n",
    "btc_importances_ranked_top12 = btc_importances_ranked[:n_features]"
   ]
  },
  {
   "cell_type": "code",
   "execution_count": 50,
   "metadata": {},
   "outputs": [
    {
     "data": {
      "image/png": "[encoded data removed]",
      "text/plain": [
       "<Figure size 864x432 with 1 Axes>"
      ]
     },
     "metadata": {
      "needs_background": "light"
     },
     "output_type": "display_data"
    }
   ],
   "source": [
    "plot_feature_importance(btc_importances_ranked_top12, x_pos_2)"
   ]
  },
  {
   "cell_type": "markdown",
   "metadata": {},
   "source": [
    "### Unknown Mining Pool Detection\n",
    "\n",
    "**Definitions:**\n",
    "* **Pooled Mining**: Pooled mining \"pools\" all of the resources of the clients in that pool to generate the solution to a given block. When the pool solves a block, the 6.25 BTC generated by that block's solution is split and distributed between the pools participants.\n",
    "\n",
    "* **Solo Mining**: Solo mining is when a miner performs the mining operations alone without joining a pool. All mined blocks are generated to the miner's credit.\n",
    "\n",
    "**Cause:** Unknown Mining Pools are **not** neccessarily one **coordinated private** pool. Rather, they could be a combination of solo miners and group miners that hide their pool\n",
    "\n",
    "**Motivation:** Shadow mining may allow a group of miners to _hide their hash rate_ or _protect proprietary hardware_ (sub 5 nanometre ASIC chips)\n",
    "\n",
    "**Result:** The lack of transparency poses a danger to the health of the bitcoin network as it may allow for game-theoretic attacks discussed later\n",
    "\n",
    "Source: https://tinyurl.com/cfr632e"
   ]
  },
  {
   "cell_type": "markdown",
   "metadata": {},
   "source": [
    "#### False positives from our confusion matrix can be attribtued to these unknown mining pools"
   ]
  },
  {
   "cell_type": "markdown",
   "metadata": {},
   "source": [
    "---\n",
    "> **Definition:**\n",
    "\n",
    "> The Random Forest classifies **303** transactions from our test dataset, that show all the **tell-tale** signs of being mined by a Mining Pool but is not actually mined by a **Publicly Known Mining Pool Signature** \n",
    "_(as filtered out by the orginal Google BigQuery)_ i.e :\n",
    "\n",
    "> * AntPool\n",
    "> * BCMonster\n",
    "> * BitMinter\n",
    "> * Bravo Mining\n",
    "> * BTCDig\n",
    "> * Btcmp\n",
    "> * BTC.com\n",
    "> * BTCC Pool\n",
    "> * btcZPool.com\n",
    "> * BW Mining\n",
    "> * Coinbase\n",
    "> * Eligius\n",
    "> * F2Pool\n",
    "> * GHash.IO\n",
    "> * Give Me COINS\n",
    "> * Golden Nonce Pool\n",
    "> * kmdPool.org\n",
    "> * MergeMining\n",
    "> * Merge Mining Pool\n",
    "> * Multipool\n",
    "> * P2Pool\n",
    "> * Slush Pool\n",
    "> * ZenPool.org\n",
    "\n",
    "\n",
    "---"
   ]
  },
  {
   "cell_type": "code",
   "execution_count": 51,
   "metadata": {},
   "outputs": [],
   "source": [
    "false_positives = (y_test == False) & (y_pred_rf_max_cpus == True)"
   ]
  },
  {
   "cell_type": "markdown",
   "metadata": {},
   "source": [
    "Let's get the subset of test data rows only"
   ]
  },
  {
   "cell_type": "code",
   "execution_count": 52,
   "metadata": {},
   "outputs": [],
   "source": [
    "test_dataframe = unpickled_dataframe.iloc[row_number_test, :]"
   ]
  },
  {
   "cell_type": "markdown",
   "metadata": {},
   "source": [
    "Let's get the subset of false positives when model applied on the test set"
   ]
  },
  {
   "cell_type": "code",
   "execution_count": 53,
   "metadata": {},
   "outputs": [
    {
     "data": {
      "text/html": [
       "<div>\n",
       "<style scoped>\n",
       "    .dataframe tbody tr th:only-of-type {\n",
       "        vertical-align: middle;\n",
       "    }\n",
       "\n",
       "    .dataframe tbody tr th {\n",
       "        vertical-align: top;\n",
       "    }\n",
       "\n",
       "    .dataframe thead th {\n",
       "        text-align: right;\n",
       "    }\n",
       "</style>\n",
       "<table border=\"1\" class=\"dataframe\">\n",
       "  <thead>\n",
       "    <tr style=\"text-align: right;\">\n",
       "      <th></th>\n",
       "      <th>is_miner</th>\n",
       "      <th>address</th>\n",
       "      <th>output_month_min</th>\n",
       "      <th>output_month_max</th>\n",
       "      <th>input_month_min</th>\n",
       "      <th>input_month_max</th>\n",
       "      <th>output_active_time</th>\n",
       "      <th>input_active_time</th>\n",
       "      <th>io_max_lag</th>\n",
       "      <th>io_min_lag</th>\n",
       "      <th>...</th>\n",
       "      <th>input_active_months</th>\n",
       "      <th>total_tx_input_count</th>\n",
       "      <th>total_tx_input_value</th>\n",
       "      <th>mean_tx_input_value</th>\n",
       "      <th>stddev_tx_input_value</th>\n",
       "      <th>total_input_tx</th>\n",
       "      <th>mean_monthly_input_value</th>\n",
       "      <th>mean_monthly_input_count</th>\n",
       "      <th>mean_output_idle_time</th>\n",
       "      <th>mean_input_idle_time</th>\n",
       "    </tr>\n",
       "  </thead>\n",
       "  <tbody>\n",
       "    <tr>\n",
       "      <th>4382265</th>\n",
       "      <td>False</td>\n",
       "      <td>17EeH7G64avuSduKrbxkRXQ1JV7tKBhK6Y</td>\n",
       "      <td>1362096000</td>\n",
       "      <td>1498867200</td>\n",
       "      <td>1383264000</td>\n",
       "      <td>1501545600</td>\n",
       "      <td>136771200</td>\n",
       "      <td>118281600</td>\n",
       "      <td>-2678400</td>\n",
       "      <td>-21168000</td>\n",
       "      <td>...</td>\n",
       "      <td>23</td>\n",
       "      <td>286</td>\n",
       "      <td>10013213387.000000000</td>\n",
       "      <td>35011235.618881119</td>\n",
       "      <td>7.591097e+07</td>\n",
       "      <td>48</td>\n",
       "      <td>35011235.618881119</td>\n",
       "      <td>1.0</td>\n",
       "      <td>482009.290323</td>\n",
       "      <td>2.541812e+06</td>\n",
       "    </tr>\n",
       "    <tr>\n",
       "      <th>13820</th>\n",
       "      <td>False</td>\n",
       "      <td>1Aafyve8Z7giQxkyWQjMDZr4bzVWszf43k</td>\n",
       "      <td>1385856000</td>\n",
       "      <td>1454284800</td>\n",
       "      <td>1388534400</td>\n",
       "      <td>1417392000</td>\n",
       "      <td>68428800</td>\n",
       "      <td>28857600</td>\n",
       "      <td>36892800</td>\n",
       "      <td>-2678400</td>\n",
       "      <td>...</td>\n",
       "      <td>11</td>\n",
       "      <td>222</td>\n",
       "      <td>1922479859.000000000</td>\n",
       "      <td>8659819.184684685</td>\n",
       "      <td>7.291032e+06</td>\n",
       "      <td>51</td>\n",
       "      <td>8659819.184684685</td>\n",
       "      <td>1.0</td>\n",
       "      <td>300271.053812</td>\n",
       "      <td>6.146441e+05</td>\n",
       "    </tr>\n",
       "    <tr>\n",
       "      <th>592716</th>\n",
       "      <td>False</td>\n",
       "      <td>13xbaKsJtY5Uz4tktvUDA2h5vkXsKcy3vJ</td>\n",
       "      <td>1385856000</td>\n",
       "      <td>1467331200</td>\n",
       "      <td>1385856000</td>\n",
       "      <td>1462060800</td>\n",
       "      <td>81475200</td>\n",
       "      <td>76204800</td>\n",
       "      <td>5270400</td>\n",
       "      <td>0</td>\n",
       "      <td>...</td>\n",
       "      <td>13</td>\n",
       "      <td>165</td>\n",
       "      <td>1719395578.000000000</td>\n",
       "      <td>10420579.260606061</td>\n",
       "      <td>2.908096e+07</td>\n",
       "      <td>33</td>\n",
       "      <td>10420579.260606061</td>\n",
       "      <td>1.0</td>\n",
       "      <td>506841.745342</td>\n",
       "      <td>2.392638e+06</td>\n",
       "    </tr>\n",
       "  </tbody>\n",
       "</table>\n",
       "<p>3 rows × 28 columns</p>\n",
       "</div>"
      ],
      "text/plain": [
       "         is_miner                             address  output_month_min  \\\n",
       "4382265     False  17EeH7G64avuSduKrbxkRXQ1JV7tKBhK6Y        1362096000   \n",
       "13820       False  1Aafyve8Z7giQxkyWQjMDZr4bzVWszf43k        1385856000   \n",
       "592716      False  13xbaKsJtY5Uz4tktvUDA2h5vkXsKcy3vJ        1385856000   \n",
       "\n",
       "         output_month_max  input_month_min  input_month_max  \\\n",
       "4382265        1498867200       1383264000       1501545600   \n",
       "13820          1454284800       1388534400       1417392000   \n",
       "592716         1467331200       1385856000       1462060800   \n",
       "\n",
       "         output_active_time  input_active_time  io_max_lag  io_min_lag  ...  \\\n",
       "4382265           136771200          118281600    -2678400   -21168000  ...   \n",
       "13820              68428800           28857600    36892800    -2678400  ...   \n",
       "592716             81475200           76204800     5270400           0  ...   \n",
       "\n",
       "         input_active_months  total_tx_input_count   total_tx_input_value  \\\n",
       "4382265                   23                   286  10013213387.000000000   \n",
       "13820                     11                   222   1922479859.000000000   \n",
       "592716                    13                   165   1719395578.000000000   \n",
       "\n",
       "        mean_tx_input_value  stddev_tx_input_value  total_input_tx  \\\n",
       "4382265  35011235.618881119           7.591097e+07              48   \n",
       "13820     8659819.184684685           7.291032e+06              51   \n",
       "592716   10420579.260606061           2.908096e+07              33   \n",
       "\n",
       "        mean_monthly_input_value  mean_monthly_input_count  \\\n",
       "4382265       35011235.618881119                       1.0   \n",
       "13820          8659819.184684685                       1.0   \n",
       "592716        10420579.260606061                       1.0   \n",
       "\n",
       "         mean_output_idle_time  mean_input_idle_time  \n",
       "4382265          482009.290323          2.541812e+06  \n",
       "13820            300271.053812          6.146441e+05  \n",
       "592716           506841.745342          2.392638e+06  \n",
       "\n",
       "[3 rows x 28 columns]"
      ]
     },
     "execution_count": 53,
     "metadata": {},
     "output_type": "execute_result"
    }
   ],
   "source": [
    "test_dataframe.iloc[false_positives].head(3)  "
   ]
  },
  {
   "cell_type": "code",
   "execution_count": 54,
   "metadata": {},
   "outputs": [
    {
     "data": {
      "text/html": [
       "<div>\n",
       "<style scoped>\n",
       "    .dataframe tbody tr th:only-of-type {\n",
       "        vertical-align: middle;\n",
       "    }\n",
       "\n",
       "    .dataframe tbody tr th {\n",
       "        vertical-align: top;\n",
       "    }\n",
       "\n",
       "    .dataframe thead th {\n",
       "        text-align: right;\n",
       "    }\n",
       "</style>\n",
       "<table border=\"1\" class=\"dataframe\">\n",
       "  <thead>\n",
       "    <tr style=\"text-align: right;\">\n",
       "      <th></th>\n",
       "      <th>is_miner</th>\n",
       "      <th>address</th>\n",
       "      <th>output_month_min</th>\n",
       "      <th>output_month_max</th>\n",
       "      <th>input_month_min</th>\n",
       "      <th>input_month_max</th>\n",
       "      <th>output_active_time</th>\n",
       "      <th>input_active_time</th>\n",
       "      <th>io_max_lag</th>\n",
       "      <th>io_min_lag</th>\n",
       "      <th>...</th>\n",
       "      <th>input_active_months</th>\n",
       "      <th>total_tx_input_count</th>\n",
       "      <th>total_tx_input_value</th>\n",
       "      <th>mean_tx_input_value</th>\n",
       "      <th>stddev_tx_input_value</th>\n",
       "      <th>total_input_tx</th>\n",
       "      <th>mean_monthly_input_value</th>\n",
       "      <th>mean_monthly_input_count</th>\n",
       "      <th>mean_output_idle_time</th>\n",
       "      <th>mean_input_idle_time</th>\n",
       "    </tr>\n",
       "  </thead>\n",
       "  <tbody>\n",
       "    <tr>\n",
       "      <th>1647008</th>\n",
       "      <td>False</td>\n",
       "      <td>1PCzV7sABMtoBoD3wWGd7zfzAh55AtJ2hL</td>\n",
       "      <td>1401580800</td>\n",
       "      <td>1530403200</td>\n",
       "      <td>1406851200</td>\n",
       "      <td>1530403200</td>\n",
       "      <td>128822400</td>\n",
       "      <td>123552000</td>\n",
       "      <td>0</td>\n",
       "      <td>-5270400</td>\n",
       "      <td>...</td>\n",
       "      <td>8</td>\n",
       "      <td>154</td>\n",
       "      <td>1186155342.000000000</td>\n",
       "      <td>7702307.415584416</td>\n",
       "      <td>9.355534e+06</td>\n",
       "      <td>12</td>\n",
       "      <td>7702307.415584416</td>\n",
       "      <td>1.0</td>\n",
       "      <td>839157.130719</td>\n",
       "      <td>12566277.6</td>\n",
       "    </tr>\n",
       "    <tr>\n",
       "      <th>2721738</th>\n",
       "      <td>False</td>\n",
       "      <td>1GmXAk513KfanHY5cVqXLqkMTMHnNTh1e5</td>\n",
       "      <td>1385856000</td>\n",
       "      <td>1393632000</td>\n",
       "      <td>1385856000</td>\n",
       "      <td>1417392000</td>\n",
       "      <td>7776000</td>\n",
       "      <td>31536000</td>\n",
       "      <td>-23760000</td>\n",
       "      <td>0</td>\n",
       "      <td>...</td>\n",
       "      <td>2</td>\n",
       "      <td>42</td>\n",
       "      <td>173150356.000000000</td>\n",
       "      <td>4122627.523809524</td>\n",
       "      <td>2.190316e+06</td>\n",
       "      <td>6</td>\n",
       "      <td>4122627.523809524</td>\n",
       "      <td>1.0</td>\n",
       "      <td>208188.675000</td>\n",
       "      <td>6255864.0</td>\n",
       "    </tr>\n",
       "    <tr>\n",
       "      <th>2755176</th>\n",
       "      <td>False</td>\n",
       "      <td>17Mi9sFYX7xzZ5Latjqycf8V5TEKw1cRX9</td>\n",
       "      <td>1385856000</td>\n",
       "      <td>1396310400</td>\n",
       "      <td>1388534400</td>\n",
       "      <td>1396310400</td>\n",
       "      <td>10454400</td>\n",
       "      <td>7776000</td>\n",
       "      <td>0</td>\n",
       "      <td>-2678400</td>\n",
       "      <td>...</td>\n",
       "      <td>4</td>\n",
       "      <td>71</td>\n",
       "      <td>478848595.000000000</td>\n",
       "      <td>6744346.408450704</td>\n",
       "      <td>3.639180e+06</td>\n",
       "      <td>11</td>\n",
       "      <td>6744346.408450704</td>\n",
       "      <td>1.0</td>\n",
       "      <td>119729.342857</td>\n",
       "      <td>800590.6</td>\n",
       "    </tr>\n",
       "  </tbody>\n",
       "</table>\n",
       "<p>3 rows × 28 columns</p>\n",
       "</div>"
      ],
      "text/plain": [
       "         is_miner                             address  output_month_min  \\\n",
       "1647008     False  1PCzV7sABMtoBoD3wWGd7zfzAh55AtJ2hL        1401580800   \n",
       "2721738     False  1GmXAk513KfanHY5cVqXLqkMTMHnNTh1e5        1385856000   \n",
       "2755176     False  17Mi9sFYX7xzZ5Latjqycf8V5TEKw1cRX9        1385856000   \n",
       "\n",
       "         output_month_max  input_month_min  input_month_max  \\\n",
       "1647008        1530403200       1406851200       1530403200   \n",
       "2721738        1393632000       1385856000       1417392000   \n",
       "2755176        1396310400       1388534400       1396310400   \n",
       "\n",
       "         output_active_time  input_active_time  io_max_lag  io_min_lag  ...  \\\n",
       "1647008           128822400          123552000           0    -5270400  ...   \n",
       "2721738             7776000           31536000   -23760000           0  ...   \n",
       "2755176            10454400            7776000           0    -2678400  ...   \n",
       "\n",
       "         input_active_months  total_tx_input_count  total_tx_input_value  \\\n",
       "1647008                    8                   154  1186155342.000000000   \n",
       "2721738                    2                    42   173150356.000000000   \n",
       "2755176                    4                    71   478848595.000000000   \n",
       "\n",
       "        mean_tx_input_value  stddev_tx_input_value  total_input_tx  \\\n",
       "1647008   7702307.415584416           9.355534e+06              12   \n",
       "2721738   4122627.523809524           2.190316e+06               6   \n",
       "2755176   6744346.408450704           3.639180e+06              11   \n",
       "\n",
       "        mean_monthly_input_value  mean_monthly_input_count  \\\n",
       "1647008        7702307.415584416                       1.0   \n",
       "2721738        4122627.523809524                       1.0   \n",
       "2755176        6744346.408450704                       1.0   \n",
       "\n",
       "         mean_output_idle_time  mean_input_idle_time  \n",
       "1647008          839157.130719            12566277.6  \n",
       "2721738          208188.675000             6255864.0  \n",
       "2755176          119729.342857              800590.6  \n",
       "\n",
       "[3 rows x 28 columns]"
      ]
     },
     "execution_count": 54,
     "metadata": {},
     "output_type": "execute_result"
    }
   ],
   "source": [
    "test_dataframe.iloc[false_positives].tail(3)"
   ]
  },
  {
   "cell_type": "code",
   "execution_count": 55,
   "metadata": {},
   "outputs": [],
   "source": [
    "def bitcoin_scatter(x, colors):\n",
    "    num_classes = len(numpy.unique(colors))  # choose a color palette with seaborn.\n",
    "    palette = numpy.array(seaborn.color_palette(\"hls\", num_classes)) # create a scatter plot.\n",
    "    f = matplotlib.pyplot.figure(figsize = (8, 8))\n",
    "    ax = matplotlib.pyplot.subplot(aspect = 'equal')\n",
    "    sc = ax.scatter(x[:,0], x[:,1], lw = 0, s = 40, c = palette[colors.astype(numpy.int)])\n",
    "    matplotlib.pyplot.xlim(-25, 25)\n",
    "    matplotlib.pyplot.ylim(-25, 25)\n",
    "    ax.axis('off')\n",
    "    ax.axis('tight')\n",
    "    matplotlib.pyplot.title('t-SNE to visualize features')\n",
    "    txts = [] # add the labels for each digit corresponding to the label\n",
    "    for i in range(num_classes):\n",
    "        xtext, ytext = numpy.median(x[colors == i, :], axis = 0) # Position of each label at median of data points.\n",
    "        txt = ax.text(xtext, ytext, str(i), fontsize = 24)\n",
    "        txt.set_path_effects([\n",
    "            matplotlib.patheffects.Stroke(linewidth = 5, foreground = \"w\"),\n",
    "            matplotlib.patheffects.Normal()])\n",
    "        txts.append(txt)\n",
    "    return f, ax, sc, txts"
   ]
  },
  {
   "cell_type": "markdown",
   "metadata": {},
   "source": [
    "#### The t-SNE dimensionality reduction for 26 features (of a bitcoin transaction) took 7.3 hours even when parallelized on 8 cores!"
   ]
  },
  {
   "cell_type": "code",
   "execution_count": 56,
   "metadata": {},
   "outputs": [
    {
     "ename": "NameError",
     "evalue": "name 'seaborn' is not defined",
     "output_type": "error",
     "traceback": [
      "\u001b[0;31m---------------------------------------------------------------------------\u001b[0m",
      "\u001b[0;31mNameError\u001b[0m                                 Traceback (most recent call last)",
      "\u001b[0;32m<ipython-input-56-7c5994b06979>\u001b[0m in \u001b[0;36m<module>\u001b[0;34m\u001b[0m\n\u001b[0;32m----> 1\u001b[0;31m \u001b[0mseaborn\u001b[0m\u001b[0;34m.\u001b[0m\u001b[0mset_style\u001b[0m\u001b[0;34m(\u001b[0m\u001b[0;34m'darkgrid'\u001b[0m\u001b[0;34m)\u001b[0m\u001b[0;34m\u001b[0m\u001b[0;34m\u001b[0m\u001b[0m\n\u001b[0m\u001b[1;32m      2\u001b[0m \u001b[0mseaborn\u001b[0m\u001b[0;34m.\u001b[0m\u001b[0mset_palette\u001b[0m\u001b[0;34m(\u001b[0m\u001b[0;34m'muted'\u001b[0m\u001b[0;34m)\u001b[0m\u001b[0;34m\u001b[0m\u001b[0;34m\u001b[0m\u001b[0m\n\u001b[1;32m      3\u001b[0m \u001b[0mseaborn\u001b[0m\u001b[0;34m.\u001b[0m\u001b[0mset_context\u001b[0m\u001b[0;34m(\u001b[0m\u001b[0;34m\"notebook\"\u001b[0m\u001b[0;34m,\u001b[0m \u001b[0mfont_scale\u001b[0m \u001b[0;34m=\u001b[0m \u001b[0;36m1.5\u001b[0m\u001b[0;34m,\u001b[0m \u001b[0mrc\u001b[0m \u001b[0;34m=\u001b[0m \u001b[0;34m{\u001b[0m\u001b[0;34m\"lines.linewidth\"\u001b[0m\u001b[0;34m:\u001b[0m \u001b[0;36m2.5\u001b[0m\u001b[0;34m}\u001b[0m\u001b[0;34m)\u001b[0m\u001b[0;34m\u001b[0m\u001b[0;34m\u001b[0m\u001b[0m\n\u001b[1;32m      4\u001b[0m \u001b[0mseed\u001b[0m \u001b[0;34m=\u001b[0m \u001b[0;36m19\u001b[0m\u001b[0;34m\u001b[0m\u001b[0;34m\u001b[0m\u001b[0m\n\u001b[1;32m      5\u001b[0m \u001b[0mtime_start2\u001b[0m \u001b[0;34m=\u001b[0m \u001b[0mtime\u001b[0m\u001b[0;34m.\u001b[0m\u001b[0mtime\u001b[0m\u001b[0;34m(\u001b[0m\u001b[0;34m)\u001b[0m\u001b[0;34m\u001b[0m\u001b[0;34m\u001b[0m\u001b[0m\n",
      "\u001b[0;31mNameError\u001b[0m: name 'seaborn' is not defined"
     ]
    }
   ],
   "source": [
    "seaborn.set_style('darkgrid')\n",
    "seaborn.set_palette('muted')\n",
    "seaborn.set_context(\"notebook\", font_scale = 1.5, rc = {\"lines.linewidth\": 2.5})\n",
    "seed = 19\n",
    "time_start2 = time.time()\n",
    "bitcoin_tsne = TSNE(random_state = seed, n_jobs = -1).fit_transform(X)\n",
    "print('Time elapsed: {} seconds' .format(time.time() - time_start2))"
   ]
  },
  {
   "cell_type": "code",
   "execution_count": 57,
   "metadata": {},
   "outputs": [
    {
     "ename": "NameError",
     "evalue": "name 'bitcoin_tsne' is not defined",
     "output_type": "error",
     "traceback": [
      "\u001b[0;31m---------------------------------------------------------------------------\u001b[0m",
      "\u001b[0;31mNameError\u001b[0m                                 Traceback (most recent call last)",
      "\u001b[0;32m<ipython-input-57-07d6f9dadffa>\u001b[0m in \u001b[0;36m<module>\u001b[0;34m\u001b[0m\n\u001b[0;32m----> 1\u001b[0;31m \u001b[0mbitcoin_scatter\u001b[0m\u001b[0;34m(\u001b[0m\u001b[0mbitcoin_tsne\u001b[0m\u001b[0;34m,\u001b[0m \u001b[0my\u001b[0m\u001b[0;34m)\u001b[0m\u001b[0;34m\u001b[0m\u001b[0;34m\u001b[0m\u001b[0m\n\u001b[0m",
      "\u001b[0;31mNameError\u001b[0m: name 'bitcoin_tsne' is not defined"
     ]
    }
   ],
   "source": [
    "bitcoin_scatter(bitcoin_tsne, y)"
   ]
  },
  {
   "cell_type": "code",
   "execution_count": null,
   "metadata": {},
   "outputs": [],
   "source": []
  }
 ],
 "metadata": {
  "kernelspec": {
   "display_name": "Python 3",
   "language": "python",
   "name": "python3"
  },
  "language_info": {
   "codemirror_mode": {
    "name": "ipython",
    "version": 3
   },
   "file_extension": ".py",
   "mimetype": "text/x-python",
   "name": "python",
   "nbconvert_exporter": "python",
   "pygments_lexer": "ipython3",
   "version": "3.8.2"
  }
 },
 "nbformat": 4,
 "nbformat_minor": 2
}
